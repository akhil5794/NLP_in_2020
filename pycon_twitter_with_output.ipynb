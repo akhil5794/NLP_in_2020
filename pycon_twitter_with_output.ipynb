{
 "cells": [
  {
   "cell_type": "markdown",
   "metadata": {},
   "source": [
    "# Text classification\n",
    "# Topic modeling and GloVe vectors in gensim\n",
    "\n",
    "We will be developing a machine learning pipeline which can classify a text user into one of 20 categories based on the user's tweets.\n",
    "Following are the concepts we'll be exploring:\n",
    "- Bag of words\n",
    "- TF-IDF\n",
    "- Visualizing our data with topic models.\n",
    "- LDA model tuning with topic coherence\n",
    "- Dimensionality reduction with topic models\n",
    "- GloVe vectors for classification"
   ]
  },
  {
   "cell_type": "code",
   "execution_count": 79,
   "metadata": {},
   "outputs": [
    {
     "name": "stderr",
     "output_type": "stream",
     "text": [
      "[nltk_data] Downloading package wordnet to\n",
      "[nltk_data]     C:\\Users\\akhil\\AppData\\Roaming\\nltk_data...\n",
      "[nltk_data]   Package wordnet is already up-to-date!\n",
      "[nltk_data] Downloading package stopwords to\n",
      "[nltk_data]     C:\\Users\\akhil\\AppData\\Roaming\\nltk_data...\n",
      "[nltk_data]   Package stopwords is already up-to-date!\n"
     ]
    }
   ],
   "source": [
    "import pandas as pd\n",
    "import numpy as np\n",
    "import json\n",
    "from collections import Counter\n",
    "from wordcloud import WordCloud, STOPWORDS\n",
    "import matplotlib.pyplot as plt\n",
    "import re, string, unicodedata\n",
    "import nltk\n",
    "from nltk import word_tokenize, sent_tokenize, FreqDist\n",
    "from nltk.corpus import stopwords\n",
    "from nltk.stem import LancasterStemmer, WordNetLemmatizer\n",
    "nltk.download\n",
    "nltk.download('wordnet')\n",
    "nltk.download('stopwords')\n",
    "from nltk.tokenize import TweetTokenizer"
   ]
  },
  {
   "cell_type": "markdown",
   "metadata": {},
   "source": [
    "## 1. Reading the given data"
   ]
  },
  {
   "cell_type": "code",
   "execution_count": 80,
   "metadata": {},
   "outputs": [
    {
     "name": "stderr",
     "output_type": "stream",
     "text": [
      "C:\\ProgramData\\Anaconda3\\lib\\site-packages\\ipykernel_launcher.py:1: ParserWarning: Falling back to the 'python' engine because the 'c' engine does not support regex separators (separators > 1 char and different from '\\s+' are interpreted as regex); you can avoid this warning by specifying engine='python'.\n",
      "  \"\"\"Entry point for launching an IPython kernel.\n"
     ]
    },
    {
     "name": "stdout",
     "output_type": "stream",
     "text": [
      "                                           original_text\n",
      "0      A little throwback with my favourite person @ ...\n",
      "1      glam on @user yesterday for #kcon makeup using...\n",
      "2      Democracy Plaza in the wake of a stunning outc...\n",
      "3       Then &amp; Now. VILO @ Walt Disney Magic Kingdom\n",
      "4                   Who never... @ A Galaxy Far Far Away\n",
      "...                                                  ...\n",
      "49995  My #O2otd Love this chain so much and our new ...\n",
      "49996  Met Santa and Olaf @ the North Pole today @ No...\n",
      "49997  New York by Night Strideby #HERElocationNYC......\n",
      "49998  Kisses for the birthday girl! @ Helzberg Diamonds\n",
      "49999  Dinner with this priceless view!Thank you, S #...\n",
      "\n",
      "[50000 rows x 1 columns]\n"
     ]
    }
   ],
   "source": [
    "trials_data = pd.read_csv(\"us_trial.text\", sep=\"/t,/n\", header = None)\n",
    "trials_data.columns = ['original_text']\n",
    "print(trials_data)"
   ]
  },
  {
   "cell_type": "code",
   "execution_count": 81,
   "metadata": {},
   "outputs": [
    {
     "name": "stdout",
     "output_type": "stream",
     "text": [
      "0         0\n",
      "1         7\n",
      "2        11\n",
      "3         0\n",
      "4         2\n",
      "         ..\n",
      "49995     1\n",
      "49996     0\n",
      "49997    11\n",
      "49998     0\n",
      "49999     9\n",
      "Name: labels, Length: 50000, dtype: int64\n"
     ]
    }
   ],
   "source": [
    "labels = pd.read_csv(\"us_trial.labels\", sep=\"\\t\", header = None)\n",
    "trials_data['labels'] = labels\n",
    "del labels\n",
    "print(trials_data['labels'])"
   ]
  },
  {
   "cell_type": "markdown",
   "metadata": {},
   "source": [
    "There are 50,000 records and corresponding labels, let's check the number of unique values in the target variable"
   ]
  },
  {
   "cell_type": "markdown",
   "metadata": {},
   "source": [
    "## 2. check the number of unique values in the target variable"
   ]
  },
  {
   "cell_type": "code",
   "execution_count": 82,
   "metadata": {},
   "outputs": [
    {
     "data": {
      "text/plain": [
       "array([ 0,  7, 11,  2,  1,  8, 13,  9, 16, 19,  4,  6, 14,  5, 10, 15,  3,\n",
       "       12, 17, 18], dtype=int64)"
      ]
     },
     "execution_count": 82,
     "metadata": {},
     "output_type": "execute_result"
    }
   ],
   "source": [
    "trials_data['labels'].unique()"
   ]
  },
  {
   "cell_type": "markdown",
   "metadata": {},
   "source": [
    "There are 20 unique labels, let's check the value count for each label"
   ]
  },
  {
   "cell_type": "code",
   "execution_count": 83,
   "metadata": {},
   "outputs": [
    {
     "data": {
      "text/plain": [
       "0     10760\n",
       "1      5279\n",
       "2      5241\n",
       "3      2885\n",
       "4      2517\n",
       "5      2317\n",
       "6      2049\n",
       "7      1894\n",
       "8      1796\n",
       "9      1671\n",
       "10     1544\n",
       "11     1528\n",
       "12     1462\n",
       "14     1377\n",
       "13     1346\n",
       "16     1306\n",
       "18     1286\n",
       "17     1279\n",
       "15     1249\n",
       "19     1214\n",
       "Name: labels, dtype: int64"
      ]
     },
     "execution_count": 83,
     "metadata": {},
     "output_type": "execute_result"
    }
   ],
   "source": [
    "trials_data['labels'].value_counts()"
   ]
  },
  {
   "cell_type": "code",
   "execution_count": 84,
   "metadata": {},
   "outputs": [
    {
     "data": {
      "text/plain": [
       "<matplotlib.axes._subplots.AxesSubplot at 0x117faf3b848>"
      ]
     },
     "execution_count": 84,
     "metadata": {},
     "output_type": "execute_result"
    },
    {
     "data": {
      "image/png": "[encoded data removed]",
      "text/plain": [
       "<Figure size 432x288 with 1 Axes>"
      ]
     },
     "metadata": {
      "needs_background": "light"
     },
     "output_type": "display_data"
    }
   ],
   "source": [
    "trials_data['labels'].value_counts().plot.bar(x='lab', y='val')"
   ]
  },
  {
   "cell_type": "markdown",
   "metadata": {},
   "source": [
    "### Exploring the dataset"
   ]
  },
  {
   "cell_type": "markdown",
   "metadata": {},
   "source": [
    "### Creating training and test sets"
   ]
  },
  {
   "cell_type": "markdown",
   "metadata": {},
   "source": [
    "We'll be using 80% of the tweets (for each profile) for training and 20% for testing, i.e. a 80-20 split as mentioned in [this](http://snap.stanford.edu/soma2010/papers/soma2010_12.pdf) paper by Davison et al. Cross validation can and should be done."
   ]
  },
  {
   "cell_type": "code",
   "execution_count": 85,
   "metadata": {},
   "outputs": [],
   "source": [
    "from sklearn.model_selection import train_test_split\n",
    "\n",
    "X_train, X_test, y_train, y_test = train_test_split(trials_data['original_text'], trials_data['labels'],\n",
    "                                                    stratify=trials_data['labels'], \n",
    "                                                    test_size=0.20)"
   ]
  },
  {
   "cell_type": "code",
   "execution_count": null,
   "metadata": {},
   "outputs": [],
   "source": []
  },
  {
   "cell_type": "markdown",
   "metadata": {},
   "source": [
    "### Preprocessing our data. Remember: Garbage in, garbage out\n",
    "    NLP is 80% preprocessing\n",
    "                        - Lev Konstantinovskiy\n",
    "Preprocessing is probably the single most important step in producing good topic models which give human interpretable topics. Do take some time to study the preprocessor well because we'll be using the same preprocessor for the tasks later on for classification using Bag of words and TF-IDF"
   ]
  },
  {
   "cell_type": "code",
   "execution_count": 72,
   "metadata": {},
   "outputs": [],
   "source": [
    "import re\n",
    "from nltk.corpus import stopwords  # for using english stopwords\n",
    "from gensim.models.phrases import Phrases\n",
    "from gensim.utils import deaccent, decode_htmlentities, lemmatize"
   ]
  },
  {
   "cell_type": "code",
   "execution_count": 73,
   "metadata": {},
   "outputs": [],
   "source": [
    "stops = stopwords.words('english')"
   ]
  },
  {
   "cell_type": "markdown",
   "metadata": {},
   "source": [
    "Following are the steps we'll be taking to preprocess a user profile, i.e. a space seperated collection of at most 200 most recent tweets of the profile:\n",
    "1. Decode html entities. eg. \"AT`&`amp;T\" will become \"AT&T\"\n",
    "2. Deaccent. Eg:\n",
    "    ```\n",
    "    >>> deaccent(\"Šéf chomutovských komunistů dostal poštou bílý prášek\")\n",
    "    u'Sef chomutovskych komunistu dostal postou bily prasek'\n",
    "    ```\n",
    "3. Remove links.\n",
    "4. Remove any user mentions (__@name__). This could maybe be skipped as user mentions can also provide signal. However we'll be removing them for this tutorial.\n",
    "5. Lemmatize and remove stopwords. Lemmatization is preferred over stemming here because lemmatization retains readability of the words which is important in our case.\n",
    "6. We will only pick nouns here since they contribute the most to the signal"
   ]
  },
  {
   "cell_type": "code",
   "execution_count": 62,
   "metadata": {},
   "outputs": [],
   "source": [
    "def preprocess_text(tweet):\n",
    "    \"\"\"\n",
    "    Function to process an aggregated user profile. This does the following:\n",
    "    1. Decode html entities. eg. \"AT&amp;T\" will become \"AT&T\"\n",
    "    2. Deaccent\n",
    "    3. Remove links.\n",
    "    4. Remove any user mentions (@name).\n",
    "    5. Lemmatize and remove stopwords.\n",
    "    \n",
    "    Parameters:\n",
    "    ----------\n",
    "    text : String. If train_texts is a list of tweets, ' '.join and pass\n",
    "    \n",
    "    Returns:\n",
    "    -------\n",
    "    text : preprocessed (tokenized) tweet.\n",
    "    \"\"\"\n",
    "    tweet = decode_htmlentities(tweet)\n",
    "    tweet = deaccent(tweet)\n",
    "    tweet = tweet.encode('ascii', 'ignore')  # To prevent UnicodeDecodeErrors later on\n",
    "    tweet = re.sub(r'http\\S+', '', tweet)  # Step 3\n",
    "    tweet = re.sub(r'@\\w+', '', tweet)  # Step 4\n",
    "    tweet = tweet.split()\n",
    "    tweet = lemmatize(' '.join(tweet), re.compile('(NN)'), stopwords=stops, min_length=3, max_length=15)\n",
    "    tweet = [word.split('/')[0] for word in tweet]\n",
    "    return tweet"
   ]
  },
  {
   "cell_type": "code",
   "execution_count": 63,
   "metadata": {},
   "outputs": [
    {
     "ename": "TypeError",
     "evalue": "cannot use a string pattern on a bytes-like object",
     "output_type": "error",
     "traceback": [
      "\u001b[1;31m---------------------------------------------------------------------------\u001b[0m",
      "\u001b[1;31mTypeError\u001b[0m                                 Traceback (most recent call last)",
      "\u001b[1;32m<ipython-input-63-bf6cec433048>\u001b[0m in \u001b[0;36m<module>\u001b[1;34m\u001b[0m\n\u001b[1;32m----> 1\u001b[1;33m \u001b[0mpreprocess_text\u001b[0m\u001b[1;33m(\u001b[0m\u001b[1;34m'Tropical House Lives On At Electric Zoo :) https://t.co/lUpLIpWg3H by @_davidturner_: https://t.co/NI3bq2k8am'\u001b[0m\u001b[1;33m)\u001b[0m\u001b[1;33m\u001b[0m\u001b[1;33m\u001b[0m\u001b[0m\n\u001b[0m",
      "\u001b[1;32m<ipython-input-62-b7bf2fb1a181>\u001b[0m in \u001b[0;36mpreprocess_text\u001b[1;34m(tweet)\u001b[0m\n\u001b[0;32m     19\u001b[0m     \u001b[0mtweet\u001b[0m \u001b[1;33m=\u001b[0m \u001b[0mdeaccent\u001b[0m\u001b[1;33m(\u001b[0m\u001b[0mtweet\u001b[0m\u001b[1;33m)\u001b[0m\u001b[1;33m\u001b[0m\u001b[1;33m\u001b[0m\u001b[0m\n\u001b[0;32m     20\u001b[0m     \u001b[0mtweet\u001b[0m \u001b[1;33m=\u001b[0m \u001b[0mtweet\u001b[0m\u001b[1;33m.\u001b[0m\u001b[0mencode\u001b[0m\u001b[1;33m(\u001b[0m\u001b[1;34m'ascii'\u001b[0m\u001b[1;33m,\u001b[0m \u001b[1;34m'ignore'\u001b[0m\u001b[1;33m)\u001b[0m  \u001b[1;31m# To prevent UnicodeDecodeErrors later on\u001b[0m\u001b[1;33m\u001b[0m\u001b[1;33m\u001b[0m\u001b[0m\n\u001b[1;32m---> 21\u001b[1;33m     \u001b[0mtweet\u001b[0m \u001b[1;33m=\u001b[0m \u001b[0mre\u001b[0m\u001b[1;33m.\u001b[0m\u001b[0msub\u001b[0m\u001b[1;33m(\u001b[0m\u001b[1;34mr'http\\S+'\u001b[0m\u001b[1;33m,\u001b[0m \u001b[1;34m''\u001b[0m\u001b[1;33m,\u001b[0m \u001b[0mtweet\u001b[0m\u001b[1;33m)\u001b[0m  \u001b[1;31m# Step 3\u001b[0m\u001b[1;33m\u001b[0m\u001b[1;33m\u001b[0m\u001b[0m\n\u001b[0m\u001b[0;32m     22\u001b[0m     \u001b[0mtweet\u001b[0m \u001b[1;33m=\u001b[0m \u001b[0mre\u001b[0m\u001b[1;33m.\u001b[0m\u001b[0msub\u001b[0m\u001b[1;33m(\u001b[0m\u001b[1;34mr'@\\w+'\u001b[0m\u001b[1;33m,\u001b[0m \u001b[1;34m''\u001b[0m\u001b[1;33m,\u001b[0m \u001b[0mtweet\u001b[0m\u001b[1;33m)\u001b[0m  \u001b[1;31m# Step 4\u001b[0m\u001b[1;33m\u001b[0m\u001b[1;33m\u001b[0m\u001b[0m\n\u001b[0;32m     23\u001b[0m     \u001b[0mtweet\u001b[0m \u001b[1;33m=\u001b[0m \u001b[0mtweet\u001b[0m\u001b[1;33m.\u001b[0m\u001b[0msplit\u001b[0m\u001b[1;33m(\u001b[0m\u001b[1;33m)\u001b[0m\u001b[1;33m\u001b[0m\u001b[1;33m\u001b[0m\u001b[0m\n",
      "\u001b[1;32mC:\\ProgramData\\Anaconda3\\lib\\re.py\u001b[0m in \u001b[0;36msub\u001b[1;34m(pattern, repl, string, count, flags)\u001b[0m\n\u001b[0;32m    190\u001b[0m     \u001b[0ma\u001b[0m \u001b[0mcallable\u001b[0m\u001b[1;33m,\u001b[0m \u001b[0mit\u001b[0m\u001b[0;31m'\u001b[0m\u001b[0ms\u001b[0m \u001b[0mpassed\u001b[0m \u001b[0mthe\u001b[0m \u001b[0mMatch\u001b[0m \u001b[0mobject\u001b[0m \u001b[1;32mand\u001b[0m \u001b[0mmust\u001b[0m \u001b[1;32mreturn\u001b[0m\u001b[1;33m\u001b[0m\u001b[1;33m\u001b[0m\u001b[0m\n\u001b[0;32m    191\u001b[0m     a replacement string to be used.\"\"\"\n\u001b[1;32m--> 192\u001b[1;33m     \u001b[1;32mreturn\u001b[0m \u001b[0m_compile\u001b[0m\u001b[1;33m(\u001b[0m\u001b[0mpattern\u001b[0m\u001b[1;33m,\u001b[0m \u001b[0mflags\u001b[0m\u001b[1;33m)\u001b[0m\u001b[1;33m.\u001b[0m\u001b[0msub\u001b[0m\u001b[1;33m(\u001b[0m\u001b[0mrepl\u001b[0m\u001b[1;33m,\u001b[0m \u001b[0mstring\u001b[0m\u001b[1;33m,\u001b[0m \u001b[0mcount\u001b[0m\u001b[1;33m)\u001b[0m\u001b[1;33m\u001b[0m\u001b[1;33m\u001b[0m\u001b[0m\n\u001b[0m\u001b[0;32m    193\u001b[0m \u001b[1;33m\u001b[0m\u001b[0m\n\u001b[0;32m    194\u001b[0m \u001b[1;32mdef\u001b[0m \u001b[0msubn\u001b[0m\u001b[1;33m(\u001b[0m\u001b[0mpattern\u001b[0m\u001b[1;33m,\u001b[0m \u001b[0mrepl\u001b[0m\u001b[1;33m,\u001b[0m \u001b[0mstring\u001b[0m\u001b[1;33m,\u001b[0m \u001b[0mcount\u001b[0m\u001b[1;33m=\u001b[0m\u001b[1;36m0\u001b[0m\u001b[1;33m,\u001b[0m \u001b[0mflags\u001b[0m\u001b[1;33m=\u001b[0m\u001b[1;36m0\u001b[0m\u001b[1;33m)\u001b[0m\u001b[1;33m:\u001b[0m\u001b[1;33m\u001b[0m\u001b[1;33m\u001b[0m\u001b[0m\n",
      "\u001b[1;31mTypeError\u001b[0m: cannot use a string pattern on a bytes-like object"
     ]
    }
   ],
   "source": [
    "preprocess_text('Tropical House Lives On At Electric Zoo :) https://t.co/lUpLIpWg3H by @_davidturner_: https://t.co/NI3bq2k8am')"
   ]
  },
  {
   "cell_type": "markdown",
   "metadata": {
    "collapsed": true
   },
   "source": [
    "### Preprocessing our train, test dataframes"
   ]
  },
  {
   "cell_type": "markdown",
   "metadata": {},
   "source": [
    "Let's see what our function does"
   ]
  },
  {
   "cell_type": "code",
   "execution_count": 68,
   "metadata": {},
   "outputs": [
    {
     "ename": "TypeError",
     "evalue": "cannot use a string pattern on a bytes-like object",
     "output_type": "error",
     "traceback": [
      "\u001b[1;31m---------------------------------------------------------------------------\u001b[0m",
      "\u001b[1;31mTypeError\u001b[0m                                 Traceback (most recent call last)",
      "\u001b[1;32m<ipython-input-68-594cb7686d47>\u001b[0m in \u001b[0;36m<module>\u001b[1;34m\u001b[0m\n\u001b[1;32m----> 1\u001b[1;33m \u001b[0mpreprocess_text\u001b[0m\u001b[1;33m(\u001b[0m\u001b[0mtrain\u001b[0m\u001b[1;33m[\u001b[0m\u001b[1;34m'original_text'\u001b[0m\u001b[1;33m]\u001b[0m\u001b[1;33m[\u001b[0m\u001b[1;36m0\u001b[0m\u001b[1;33m]\u001b[0m\u001b[1;33m)\u001b[0m\u001b[1;33m[\u001b[0m\u001b[1;36m100\u001b[0m\u001b[1;33m:\u001b[0m\u001b[1;36m120\u001b[0m\u001b[1;33m]\u001b[0m\u001b[1;33m\u001b[0m\u001b[1;33m\u001b[0m\u001b[0m\n\u001b[0m",
      "\u001b[1;32m<ipython-input-62-b7bf2fb1a181>\u001b[0m in \u001b[0;36mpreprocess_text\u001b[1;34m(tweet)\u001b[0m\n\u001b[0;32m     19\u001b[0m     \u001b[0mtweet\u001b[0m \u001b[1;33m=\u001b[0m \u001b[0mdeaccent\u001b[0m\u001b[1;33m(\u001b[0m\u001b[0mtweet\u001b[0m\u001b[1;33m)\u001b[0m\u001b[1;33m\u001b[0m\u001b[1;33m\u001b[0m\u001b[0m\n\u001b[0;32m     20\u001b[0m     \u001b[0mtweet\u001b[0m \u001b[1;33m=\u001b[0m \u001b[0mtweet\u001b[0m\u001b[1;33m.\u001b[0m\u001b[0mencode\u001b[0m\u001b[1;33m(\u001b[0m\u001b[1;34m'ascii'\u001b[0m\u001b[1;33m,\u001b[0m \u001b[1;34m'ignore'\u001b[0m\u001b[1;33m)\u001b[0m  \u001b[1;31m# To prevent UnicodeDecodeErrors later on\u001b[0m\u001b[1;33m\u001b[0m\u001b[1;33m\u001b[0m\u001b[0m\n\u001b[1;32m---> 21\u001b[1;33m     \u001b[0mtweet\u001b[0m \u001b[1;33m=\u001b[0m \u001b[0mre\u001b[0m\u001b[1;33m.\u001b[0m\u001b[0msub\u001b[0m\u001b[1;33m(\u001b[0m\u001b[1;34mr'http\\S+'\u001b[0m\u001b[1;33m,\u001b[0m \u001b[1;34m''\u001b[0m\u001b[1;33m,\u001b[0m \u001b[0mtweet\u001b[0m\u001b[1;33m)\u001b[0m  \u001b[1;31m# Step 3\u001b[0m\u001b[1;33m\u001b[0m\u001b[1;33m\u001b[0m\u001b[0m\n\u001b[0m\u001b[0;32m     22\u001b[0m     \u001b[0mtweet\u001b[0m \u001b[1;33m=\u001b[0m \u001b[0mre\u001b[0m\u001b[1;33m.\u001b[0m\u001b[0msub\u001b[0m\u001b[1;33m(\u001b[0m\u001b[1;34mr'@\\w+'\u001b[0m\u001b[1;33m,\u001b[0m \u001b[1;34m''\u001b[0m\u001b[1;33m,\u001b[0m \u001b[0mtweet\u001b[0m\u001b[1;33m)\u001b[0m  \u001b[1;31m# Step 4\u001b[0m\u001b[1;33m\u001b[0m\u001b[1;33m\u001b[0m\u001b[0m\n\u001b[0;32m     23\u001b[0m     \u001b[0mtweet\u001b[0m \u001b[1;33m=\u001b[0m \u001b[0mtweet\u001b[0m\u001b[1;33m.\u001b[0m\u001b[0msplit\u001b[0m\u001b[1;33m(\u001b[0m\u001b[1;33m)\u001b[0m\u001b[1;33m\u001b[0m\u001b[1;33m\u001b[0m\u001b[0m\n",
      "\u001b[1;32mC:\\ProgramData\\Anaconda3\\lib\\re.py\u001b[0m in \u001b[0;36msub\u001b[1;34m(pattern, repl, string, count, flags)\u001b[0m\n\u001b[0;32m    190\u001b[0m     \u001b[0ma\u001b[0m \u001b[0mcallable\u001b[0m\u001b[1;33m,\u001b[0m \u001b[0mit\u001b[0m\u001b[0;31m'\u001b[0m\u001b[0ms\u001b[0m \u001b[0mpassed\u001b[0m \u001b[0mthe\u001b[0m \u001b[0mMatch\u001b[0m \u001b[0mobject\u001b[0m \u001b[1;32mand\u001b[0m \u001b[0mmust\u001b[0m \u001b[1;32mreturn\u001b[0m\u001b[1;33m\u001b[0m\u001b[1;33m\u001b[0m\u001b[0m\n\u001b[0;32m    191\u001b[0m     a replacement string to be used.\"\"\"\n\u001b[1;32m--> 192\u001b[1;33m     \u001b[1;32mreturn\u001b[0m \u001b[0m_compile\u001b[0m\u001b[1;33m(\u001b[0m\u001b[0mpattern\u001b[0m\u001b[1;33m,\u001b[0m \u001b[0mflags\u001b[0m\u001b[1;33m)\u001b[0m\u001b[1;33m.\u001b[0m\u001b[0msub\u001b[0m\u001b[1;33m(\u001b[0m\u001b[0mrepl\u001b[0m\u001b[1;33m,\u001b[0m \u001b[0mstring\u001b[0m\u001b[1;33m,\u001b[0m \u001b[0mcount\u001b[0m\u001b[1;33m)\u001b[0m\u001b[1;33m\u001b[0m\u001b[1;33m\u001b[0m\u001b[0m\n\u001b[0m\u001b[0;32m    193\u001b[0m \u001b[1;33m\u001b[0m\u001b[0m\n\u001b[0;32m    194\u001b[0m \u001b[1;32mdef\u001b[0m \u001b[0msubn\u001b[0m\u001b[1;33m(\u001b[0m\u001b[0mpattern\u001b[0m\u001b[1;33m,\u001b[0m \u001b[0mrepl\u001b[0m\u001b[1;33m,\u001b[0m \u001b[0mstring\u001b[0m\u001b[1;33m,\u001b[0m \u001b[0mcount\u001b[0m\u001b[1;33m=\u001b[0m\u001b[1;36m0\u001b[0m\u001b[1;33m,\u001b[0m \u001b[0mflags\u001b[0m\u001b[1;33m=\u001b[0m\u001b[1;36m0\u001b[0m\u001b[1;33m)\u001b[0m\u001b[1;33m:\u001b[0m\u001b[1;33m\u001b[0m\u001b[1;33m\u001b[0m\u001b[0m\n",
      "\u001b[1;31mTypeError\u001b[0m: cannot use a string pattern on a bytes-like object"
     ]
    }
   ],
   "source": [
    "preprocess_text(train['original_text'][0])[100:120]"
   ]
  },
  {
   "cell_type": "markdown",
   "metadata": {},
   "source": [
    "Apply function to all tweets in our training dataframe"
   ]
  },
  {
   "cell_type": "code",
   "execution_count": 23,
   "metadata": {
    "collapsed": true
   },
   "outputs": [],
   "source": [
    "train_texts = train['message'].apply(preprocess_text)"
   ]
  },
  {
   "cell_type": "markdown",
   "metadata": {},
   "source": [
    "Bigram collocation can detect words which frequently occur together and know whether they are in fact the same entity"
   ]
  },
  {
   "cell_type": "code",
   "execution_count": 25,
   "metadata": {
    "collapsed": true
   },
   "outputs": [],
   "source": [
    "bigram = Phrases(train_texts)  # For collocation detection"
   ]
  },
  {
   "cell_type": "code",
   "execution_count": 26,
   "metadata": {},
   "outputs": [
    {
     "data": {
      "text/plain": [
       "[u'hillary_clinton']"
      ]
     },
     "execution_count": 26,
     "metadata": {},
     "output_type": "execute_result"
    }
   ],
   "source": [
    "bigram['hillary', 'clinton']"
   ]
  },
  {
   "cell_type": "markdown",
   "metadata": {},
   "source": [
    "As we can see, the bigram collocation has figured out that the words 'hillary' and 'clinton' refer to the same entity that is 'Hillary Clinton' the politician."
   ]
  },
  {
   "cell_type": "code",
   "execution_count": 27,
   "metadata": {},
   "outputs": [],
   "source": [
    "train_texts = [bigram[profile] for profile in train_texts]"
   ]
  },
  {
   "cell_type": "markdown",
   "metadata": {},
   "source": [
    "You can notice the other bigram collocations below for the sports category"
   ]
  },
  {
   "cell_type": "code",
   "execution_count": 29,
   "metadata": {},
   "outputs": [
    {
     "data": {
      "text/plain": [
       "[u'zlatan',\n",
       " u'ibrahimovic',\n",
       " u'paul_pogba',\n",
       " u'critic',\n",
       " u'word',\n",
       " u'report',\n",
       " u'diego_costa',\n",
       " u'rescue',\n",
       " u'point',\n",
       " u'antonio',\n",
       " u'side',\n",
       " u'goal',\n",
       " u'aston_villa',\n",
       " u'nottingham_forest',\n",
       " u'mccormack',\n",
       " u'sky_sport',\n",
       " u'suarez',\n",
       " u'game',\n",
       " u'barcelona',\n",
       " u'star']"
      ]
     },
     "execution_count": 29,
     "metadata": {},
     "output_type": "execute_result"
    }
   ],
   "source": [
    "train_texts[100][:20]"
   ]
  },
  {
   "cell_type": "code",
   "execution_count": 30,
   "metadata": {},
   "outputs": [
    {
     "data": {
      "text/plain": [
       "152"
      ]
     },
     "execution_count": 30,
     "metadata": {},
     "output_type": "execute_result"
    }
   ],
   "source": [
    "len(train_texts)"
   ]
  },
  {
   "cell_type": "code",
   "execution_count": 31,
   "metadata": {},
   "outputs": [],
   "source": [
    "test_texts = test['message'].apply(preprocess_text)\n",
    "test_texts = [bigram[message] for message in test_texts]"
   ]
  },
  {
   "cell_type": "markdown",
   "metadata": {},
   "source": [
    "# Set up helper functions for classification evaluation\n",
    "It is important to choose an evaluation metric to compare our models. We will choose accuracy here however other metrics such as F-Measure can also be used depending on the use-case of the model."
   ]
  },
  {
   "cell_type": "code",
   "execution_count": 37,
   "metadata": {
    "collapsed": true
   },
   "outputs": [],
   "source": [
    "from sklearn.metrics import accuracy_score, confusion_matrix\n",
    "from matplotlib import pyplot as plt\n",
    "\n",
    "%matplotlib inline"
   ]
  },
  {
   "cell_type": "code",
   "execution_count": 33,
   "metadata": {},
   "outputs": [],
   "source": [
    "my_tags = pycon_dict.keys()"
   ]
  },
  {
   "cell_type": "code",
   "execution_count": 34,
   "metadata": {
    "collapsed": true
   },
   "outputs": [],
   "source": [
    "categories = train['category']"
   ]
  },
  {
   "cell_type": "code",
   "execution_count": 38,
   "metadata": {},
   "outputs": [],
   "source": [
    "def plot_confusion_matrix(cm, title='Confusion matrix', cmap=plt.cm.Blues):\n",
    "    plt.imshow(cm, interpolation='nearest', cmap=cmap)\n",
    "    plt.title(title)\n",
    "    plt.colorbar()\n",
    "    tick_marks = np.arange(len(my_tags))\n",
    "    target_names = my_tags\n",
    "    plt.xticks(tick_marks, target_names, rotation=90)\n",
    "    plt.yticks(tick_marks, target_names)\n",
    "    plt.ylabel('True label')\n",
    "    plt.xlabel('Predicted label')"
   ]
  },
  {
   "cell_type": "code",
   "execution_count": 39,
   "metadata": {
    "collapsed": true
   },
   "outputs": [],
   "source": [
    "def evaluate_prediction(predictions, target, title=\"Confusion matrix\"):\n",
    "    print('accuracy %s' % accuracy_score(target, predictions))\n",
    "    cm = confusion_matrix(target, predictions)\n",
    "    print('confusion matrix\\n %s' % cm)\n",
    "    print('(row=expected, col=predicted)')\n",
    "    \n",
    "    cm_normalized = cm.astype('float') / cm.sum(axis=1)[:, np.newaxis]\n",
    "    plot_confusion_matrix(cm_normalized, title + ' Normalized')"
   ]
  },
  {
   "cell_type": "code",
   "execution_count": 40,
   "metadata": {
    "collapsed": true
   },
   "outputs": [],
   "source": [
    "def most_influential_words(clf, vectorizer, category_index=0, num_words=10):\n",
    "    features = vectorizer.get_feature_names()\n",
    "    max_coef = sorted(enumerate(clf.coef_[category_index]), key=lambda x:x[1], reverse=True)\n",
    "    return [features[x[0]] for x in max_coef[:num_words]]    "
   ]
  },
  {
   "cell_type": "markdown",
   "metadata": {},
   "source": [
    "# Let's build our first classification model\n",
    "__Note__: We will be using `LogisticRegression` throughout this tutorial. I would also encourage you to try out the new `MLPClassifier` released as part of `scikit-learn 0.18`. This uses a neural network for classification and is a very powerful tool for learning complex non-linear functions.\n",
    "\n",
    "# Bag of words with LogisticRegression\n",
    "It sometimes important in any machine learning task to set up a baseline model in as little time as possible. This can help us gauge how much better our ideal model should be. It can also help us find out the areas where we need to work on to make our model better. Would bringing in more data help? Would making our preprocessing better help? Such questions can be answered more accurately. There are many ways to find out the answers to these questions however they lie of of scope for this tutorial\n",
    "\n",
    "We will be using bag of words first as it is the simplest document feature which is available. It is simply a word occurence matrix across all the words and all the documents."
   ]
  },
  {
   "cell_type": "code",
   "execution_count": 41,
   "metadata": {},
   "outputs": [],
   "source": [
    "from sklearn.feature_extraction.text import CountVectorizer\n",
    "from sklearn.linear_model import LogisticRegression"
   ]
  },
  {
   "cell_type": "markdown",
   "metadata": {},
   "source": [
    "We'll only take the most frequent 5000 features."
   ]
  },
  {
   "cell_type": "code",
   "execution_count": 42,
   "metadata": {
    "collapsed": true
   },
   "outputs": [],
   "source": [
    "count_vectorizer = CountVectorizer(max_features=5000)"
   ]
  },
  {
   "cell_type": "code",
   "execution_count": 43,
   "metadata": {
    "collapsed": true
   },
   "outputs": [],
   "source": [
    "train_count_features = count_vectorizer.fit_transform(' '.join(text) for text in train_texts)"
   ]
  },
  {
   "cell_type": "code",
   "execution_count": 44,
   "metadata": {
    "collapsed": true
   },
   "outputs": [],
   "source": [
    "clf_count = LogisticRegression()"
   ]
  },
  {
   "cell_type": "code",
   "execution_count": 45,
   "metadata": {},
   "outputs": [],
   "source": [
    "clf_count = clf_count.fit(train_count_features, categories)"
   ]
  },
  {
   "cell_type": "code",
   "execution_count": 46,
   "metadata": {
    "scrolled": true
   },
   "outputs": [],
   "source": [
    "test_count_features = count_vectorizer.transform(' '.join(text) for text in test_texts)"
   ]
  },
  {
   "cell_type": "code",
   "execution_count": 47,
   "metadata": {
    "collapsed": true
   },
   "outputs": [],
   "source": [
    "predictions = clf_count.predict(test_count_features)"
   ]
  },
  {
   "cell_type": "code",
   "execution_count": 48,
   "metadata": {},
   "outputs": [
    {
     "name": "stdout",
     "output_type": "stream",
     "text": [
      "accuracy 0.940789473684\n",
      "confusion matrix\n",
      " [[16  0  0  0  1  2  0  1]\n",
      " [ 0 21  0  0  0  0  0  0]\n",
      " [ 0  2 16  0  0  0  0  0]\n",
      " [ 0  0  1 18  0  0  0  0]\n",
      " [ 0  0  1  0 18  0  0  0]\n",
      " [ 1  0  0  0  0 19  0  0]\n",
      " [ 0  0  0  0  0  0 17  0]\n",
      " [ 0  0  0  0  0  0  0 18]]\n",
      "(row=expected, col=predicted)\n"
     ]
    },
    {
     "data": {
      "image/png": "[encoded data removed]",
      "text/plain": [
       "<matplotlib.figure.Figure at 0x7f29034b8610>"
      ]
     },
     "metadata": {},
     "output_type": "display_data"
    }
   ],
   "source": [
    "evaluate_prediction(predictions, test['category'])"
   ]
  },
  {
   "cell_type": "markdown",
   "metadata": {},
   "source": [
    "Greater than 90% accuracy is great for our first model!\n",
    "\n",
    "__Why did it work__? Twitter benchmark users of any particular category tweet in a very distinct way. As we saw above, users in the \"Music\" category are more likely to use words like \"performance\" or \"album\" more. Similarly users in the \"Politics\" category tend to use words like \"policy\" more. Bag of words can catch this quite brilliantly! We can see evidence of this below."
   ]
  },
  {
   "cell_type": "code",
   "execution_count": 49,
   "metadata": {},
   "outputs": [
    {
     "data": {
      "text/plain": [
       "[u'science',\n",
       " u'earth',\n",
       " u'scientist',\n",
       " u'space',\n",
       " u'alien',\n",
       " u'study',\n",
       " u'dystrophaeus_fossiltime',\n",
       " u'bone',\n",
       " u'book',\n",
       " u'astronaut']"
      ]
     },
     "execution_count": 49,
     "metadata": {},
     "output_type": "execute_result"
    }
   ],
   "source": [
    "most_influential_words(clf_count, count_vectorizer, category_index=7)  # Top words for science category"
   ]
  },
  {
   "cell_type": "markdown",
   "metadata": {},
   "source": [
    "# [TF-IDF](https://en.wikipedia.org/wiki/Tf%E2%80%93idf) with LogisticRegression\n",
    "This is a slightly more advanced method than bag of words. Bag of words needs good preprocessing more than TF-IDF as it is a raw count. However TF-IDF can reduce the weight for highly occuring terms such as 'the' by dividing by normalizing it with the number of documents it occurs in."
   ]
  },
  {
   "cell_type": "code",
   "execution_count": 50,
   "metadata": {},
   "outputs": [],
   "source": [
    "from sklearn.feature_extraction.text import TfidfVectorizer"
   ]
  },
  {
   "cell_type": "code",
   "execution_count": 51,
   "metadata": {
    "collapsed": true
   },
   "outputs": [],
   "source": [
    "tfidf_vectorizer = TfidfVectorizer(max_features=5000)"
   ]
  },
  {
   "cell_type": "code",
   "execution_count": 52,
   "metadata": {},
   "outputs": [],
   "source": [
    "train_tfidf_features = tfidf_vectorizer.fit_transform(' '.join(text) for text in train_texts)"
   ]
  },
  {
   "cell_type": "code",
   "execution_count": 53,
   "metadata": {
    "collapsed": true
   },
   "outputs": [],
   "source": [
    "clf_tfidf = LogisticRegression()"
   ]
  },
  {
   "cell_type": "code",
   "execution_count": 54,
   "metadata": {
    "collapsed": true
   },
   "outputs": [],
   "source": [
    "clf_tfidf = clf_tfidf.fit(train_tfidf_features, categories)"
   ]
  },
  {
   "cell_type": "code",
   "execution_count": 55,
   "metadata": {},
   "outputs": [],
   "source": [
    "test_tfidf_features = tfidf_vectorizer.transform(' '.join(text) for text in test_texts)"
   ]
  },
  {
   "cell_type": "code",
   "execution_count": 56,
   "metadata": {
    "collapsed": true
   },
   "outputs": [],
   "source": [
    "predictions = clf_tfidf.predict(test_tfidf_features)"
   ]
  },
  {
   "cell_type": "code",
   "execution_count": 57,
   "metadata": {},
   "outputs": [
    {
     "name": "stdout",
     "output_type": "stream",
     "text": [
      "accuracy 0.934210526316\n",
      "confusion matrix\n",
      " [[15  0  0  0  0  4  0  1]\n",
      " [ 0 21  0  0  0  0  0  0]\n",
      " [ 0  0 18  0  0  0  0  0]\n",
      " [ 1  0  0 18  0  0  0  0]\n",
      " [ 0  0  0  0 19  0  0  0]\n",
      " [ 2  0  0  0  0 18  0  0]\n",
      " [ 0  0  0  0  0  0 17  0]\n",
      " [ 1  1  0  0  0  0  0 16]]\n",
      "(row=expected, col=predicted)\n"
     ]
    },
    {
     "data": {
      "image/png": "[encoded data removed]",
      "text/plain": [
       "<matplotlib.figure.Figure at 0x7f28b7e92e90>"
      ]
     },
     "metadata": {},
     "output_type": "display_data"
    }
   ],
   "source": [
    "evaluate_prediction(predictions, test['category'])"
   ]
  },
  {
   "cell_type": "markdown",
   "metadata": {},
   "source": [
    "__Exercise__: What are the most influential words from this model in the politics category?"
   ]
  },
  {
   "cell_type": "markdown",
   "metadata": {},
   "source": [
    "Even this model gives us a wonderful accuracy!\n",
    "\n",
    "__However let's try some more methods__. First we will do some topic modeling. After all the package we will be using is called \"Gensim-Topic Modeling for Humans\"! Topic modeling can help find hidden structure in our data and thus is very useful in visualizing our dataset. It can in turn also be used for classification and dimensionality reduction among many of it's other uses."
   ]
  },
  {
   "cell_type": "markdown",
   "metadata": {},
   "source": [
    "# Let's do some topic modelling\n",
    "Essentially we're trying to find out the topics of the tweets which the user is tweeting about. Since topic models come up with topic distributions, they can probably help us in this task.\n",
    "\n",
    "Let's see if we can use topic models to find some hidden structure in our data first!\n",
    "\n",
    "### Setting up our standard gensim corpus\n",
    "You can refer to the short tutorial [here](https://radimrehurek.com/gensim/tut1.html) for reference as to how a standard gensim corpus is set. "
   ]
  },
  {
   "cell_type": "code",
   "execution_count": 86,
   "metadata": {},
   "outputs": [],
   "source": [
    "from gensim.corpora import Dictionary\n",
    "from gensim.models import LdaModel"
   ]
  },
  {
   "cell_type": "code",
   "execution_count": 88,
   "metadata": {},
   "outputs": [
    {
     "ename": "TypeError",
     "evalue": "doc2bow expects an array of unicode tokens on input, not a single string",
     "output_type": "error",
     "traceback": [
      "\u001b[1;31m---------------------------------------------------------------------------\u001b[0m",
      "\u001b[1;31mTypeError\u001b[0m                                 Traceback (most recent call last)",
      "\u001b[1;32m<ipython-input-88-66812332615e>\u001b[0m in \u001b[0;36m<module>\u001b[1;34m\u001b[0m\n\u001b[1;32m----> 1\u001b[1;33m \u001b[0mdictionary\u001b[0m \u001b[1;33m=\u001b[0m \u001b[0mDictionary\u001b[0m\u001b[1;33m(\u001b[0m\u001b[0mX_train\u001b[0m\u001b[1;33m)\u001b[0m\u001b[1;33m\u001b[0m\u001b[1;33m\u001b[0m\u001b[0m\n\u001b[0m",
      "\u001b[1;32mC:\\ProgramData\\Anaconda3\\lib\\site-packages\\gensim\\corpora\\dictionary.py\u001b[0m in \u001b[0;36m__init__\u001b[1;34m(self, documents, prune_at)\u001b[0m\n\u001b[0;32m     85\u001b[0m \u001b[1;33m\u001b[0m\u001b[0m\n\u001b[0;32m     86\u001b[0m         \u001b[1;32mif\u001b[0m \u001b[0mdocuments\u001b[0m \u001b[1;32mis\u001b[0m \u001b[1;32mnot\u001b[0m \u001b[1;32mNone\u001b[0m\u001b[1;33m:\u001b[0m\u001b[1;33m\u001b[0m\u001b[1;33m\u001b[0m\u001b[0m\n\u001b[1;32m---> 87\u001b[1;33m             \u001b[0mself\u001b[0m\u001b[1;33m.\u001b[0m\u001b[0madd_documents\u001b[0m\u001b[1;33m(\u001b[0m\u001b[0mdocuments\u001b[0m\u001b[1;33m,\u001b[0m \u001b[0mprune_at\u001b[0m\u001b[1;33m=\u001b[0m\u001b[0mprune_at\u001b[0m\u001b[1;33m)\u001b[0m\u001b[1;33m\u001b[0m\u001b[1;33m\u001b[0m\u001b[0m\n\u001b[0m\u001b[0;32m     88\u001b[0m \u001b[1;33m\u001b[0m\u001b[0m\n\u001b[0;32m     89\u001b[0m     \u001b[1;32mdef\u001b[0m \u001b[0m__getitem__\u001b[0m\u001b[1;33m(\u001b[0m\u001b[0mself\u001b[0m\u001b[1;33m,\u001b[0m \u001b[0mtokenid\u001b[0m\u001b[1;33m)\u001b[0m\u001b[1;33m:\u001b[0m\u001b[1;33m\u001b[0m\u001b[1;33m\u001b[0m\u001b[0m\n",
      "\u001b[1;32mC:\\ProgramData\\Anaconda3\\lib\\site-packages\\gensim\\corpora\\dictionary.py\u001b[0m in \u001b[0;36madd_documents\u001b[1;34m(self, documents, prune_at)\u001b[0m\n\u001b[0;32m    206\u001b[0m \u001b[1;33m\u001b[0m\u001b[0m\n\u001b[0;32m    207\u001b[0m             \u001b[1;31m# update Dictionary with the document\u001b[0m\u001b[1;33m\u001b[0m\u001b[1;33m\u001b[0m\u001b[1;33m\u001b[0m\u001b[0m\n\u001b[1;32m--> 208\u001b[1;33m             \u001b[0mself\u001b[0m\u001b[1;33m.\u001b[0m\u001b[0mdoc2bow\u001b[0m\u001b[1;33m(\u001b[0m\u001b[0mdocument\u001b[0m\u001b[1;33m,\u001b[0m \u001b[0mallow_update\u001b[0m\u001b[1;33m=\u001b[0m\u001b[1;32mTrue\u001b[0m\u001b[1;33m)\u001b[0m  \u001b[1;31m# ignore the result, here we only care about updating token ids\u001b[0m\u001b[1;33m\u001b[0m\u001b[1;33m\u001b[0m\u001b[0m\n\u001b[0m\u001b[0;32m    209\u001b[0m \u001b[1;33m\u001b[0m\u001b[0m\n\u001b[0;32m    210\u001b[0m         logger.info(\n",
      "\u001b[1;32mC:\\ProgramData\\Anaconda3\\lib\\site-packages\\gensim\\corpora\\dictionary.py\u001b[0m in \u001b[0;36mdoc2bow\u001b[1;34m(self, document, allow_update, return_missing)\u001b[0m\n\u001b[0;32m    246\u001b[0m         \"\"\"\n\u001b[0;32m    247\u001b[0m         \u001b[1;32mif\u001b[0m \u001b[0misinstance\u001b[0m\u001b[1;33m(\u001b[0m\u001b[0mdocument\u001b[0m\u001b[1;33m,\u001b[0m \u001b[0mstring_types\u001b[0m\u001b[1;33m)\u001b[0m\u001b[1;33m:\u001b[0m\u001b[1;33m\u001b[0m\u001b[1;33m\u001b[0m\u001b[0m\n\u001b[1;32m--> 248\u001b[1;33m             \u001b[1;32mraise\u001b[0m \u001b[0mTypeError\u001b[0m\u001b[1;33m(\u001b[0m\u001b[1;34m\"doc2bow expects an array of unicode tokens on input, not a single string\"\u001b[0m\u001b[1;33m)\u001b[0m\u001b[1;33m\u001b[0m\u001b[1;33m\u001b[0m\u001b[0m\n\u001b[0m\u001b[0;32m    249\u001b[0m \u001b[1;33m\u001b[0m\u001b[0m\n\u001b[0;32m    250\u001b[0m         \u001b[1;31m# Construct (word, frequency) mapping.\u001b[0m\u001b[1;33m\u001b[0m\u001b[1;33m\u001b[0m\u001b[1;33m\u001b[0m\u001b[0m\n",
      "\u001b[1;31mTypeError\u001b[0m: doc2bow expects an array of unicode tokens on input, not a single string"
     ]
    }
   ],
   "source": [
    "dictionary = Dictionary(train_texts)"
   ]
  },
  {
   "cell_type": "code",
   "execution_count": 60,
   "metadata": {},
   "outputs": [
    {
     "name": "stdout",
     "output_type": "stream",
     "text": [
      "Dictionary(16300 unique tokens: [u'jaesuk', u'sermersheim', u'headband', u'degenere', u'jetline']...)\n"
     ]
    }
   ],
   "source": [
    "print(dictionary)"
   ]
  },
  {
   "cell_type": "code",
   "execution_count": 61,
   "metadata": {
    "collapsed": true
   },
   "outputs": [],
   "source": [
    "corpus = [dictionary.doc2bow(text) for text in train_texts]"
   ]
  },
  {
   "cell_type": "markdown",
   "metadata": {},
   "source": [
    "### [LSI](https://radimrehurek.com/gensim/models/lsimodel.html) (Latent Semantic Indexing)\n",
    "LSI uses Singular Value Decomposition (SVD) for topic modeling. It can rank topics automatically but needs the `num_topics` parameter to be entered for the number of latent dimensions requested. There is currently an open [issue](https://github.com/RaRe-Technologies/gensim/issues/28) in gensim where an automatic number of topics \"chooser\" has been proposed."
   ]
  },
  {
   "cell_type": "code",
   "execution_count": 62,
   "metadata": {
    "collapsed": true
   },
   "outputs": [],
   "source": [
    "from gensim.models import LsiModel"
   ]
  },
  {
   "cell_type": "code",
   "execution_count": 63,
   "metadata": {
    "collapsed": true
   },
   "outputs": [],
   "source": [
    "lsim = LsiModel(corpus=corpus, num_topics=100, id2word=dictionary)"
   ]
  },
  {
   "cell_type": "code",
   "execution_count": 64,
   "metadata": {},
   "outputs": [
    {
     "data": {
      "text/plain": [
       "[(0,\n",
       "  u'0.483*\"travel\" + 0.235*\"time\" + 0.229*\"thank\" + 0.207*\"day\" + 0.192*\"world\" + 0.192*\"today\" + 0.180*\"year\" + 0.159*\"france\" + 0.149*\"video\" + 0.145*\"week\"'),\n",
       " (1,\n",
       "  u'0.823*\"travel\" + -0.149*\"today\" + -0.147*\"thank\" + -0.124*\"year\" + -0.122*\"day\" + -0.112*\"time\" + -0.103*\"video\" + -0.096*\"person\" + -0.093*\"trump\" + -0.083*\"week\"'),\n",
       " (2,\n",
       "  u'-0.875*\"france\" + -0.264*\"paris\" + 0.166*\"travel\" + -0.155*\"france_france\" + 0.087*\"thank\" + -0.063*\"debate\" + -0.059*\"wine\" + -0.058*\"ban\" + 0.057*\"time\" + -0.056*\"food\"'),\n",
       " (3,\n",
       "  u'0.461*\"ceo_medium\" + 0.454*\"number_ceo\" + 0.454*\"congratulation_number\" + 0.420*\"congratulation_ceo\" + 0.399*\"medium_socialceos\" + 0.124*\"ceo\" + 0.055*\"ceos_medium\" + 0.034*\"medium_congratulation\" + 0.034*\"ceo_number\" + 0.034*\"company\"'),\n",
       " (4,\n",
       "  u'-0.918*\"recipe\" + 0.141*\"trump\" + -0.116*\"cheese\" + -0.083*\"gbbo\" + -0.076*\"chef\" + -0.065*\"pizza\" + -0.063*\"recipe_chicken\" + -0.061*\"cake\" + -0.055*\"article\" + -0.053*\"chocolate\"'),\n",
       " (5,\n",
       "  u'0.535*\"trump\" + 0.354*\"india\" + 0.166*\"recipe\" + 0.151*\"hillary_clinton\" + 0.133*\"president\" + 0.131*\"market\" + 0.130*\"debate\" + -0.118*\"watch\" + 0.116*\"china\" + -0.116*\"thank\"'),\n",
       " (6,\n",
       "  u'-0.531*\"india\" + 0.480*\"trump\" + 0.259*\"video\" + -0.181*\"market\" + -0.164*\"world\" + 0.144*\"debate\" + 0.134*\"hillary_clinton\" + 0.116*\"album\" + -0.110*\"china\" + -0.106*\"rate\"'),\n",
       " (7,\n",
       "  u'-0.482*\"video\" + 0.335*\"thank\" + -0.292*\"chart\" + -0.279*\"album\" + -0.215*\"india\" + -0.193*\"song\" + -0.159*\"debate\" + 0.153*\"today\" + 0.140*\"trump\" + -0.121*\"feat\"'),\n",
       " (8,\n",
       "  u'0.254*\"chart\" + -0.253*\"goal\" + 0.246*\"apple\" + -0.230*\"watch\" + 0.203*\"iphone\" + 0.153*\"google\" + 0.147*\"science\" + -0.140*\"india\" + -0.138*\"tonight\" + -0.125*\"game\"'),\n",
       " (9,\n",
       "  u'0.723*\"chart\" + 0.257*\"feat\" + -0.215*\"video\" + -0.198*\"apple\" + 0.175*\"remix\" + -0.156*\"iphone\" + 0.138*\"thank\" + -0.125*\"google\" + 0.110*\"chart_hmstack\" + -0.104*\"debate\"')]"
      ]
     },
     "execution_count": 64,
     "metadata": {},
     "output_type": "execute_result"
    }
   ],
   "source": [
    "lsim.show_topics(num_topics=10)"
   ]
  },
  {
   "cell_type": "code",
   "execution_count": 65,
   "metadata": {
    "collapsed": true
   },
   "outputs": [],
   "source": [
    "lsimtopics = lsim.show_topics(formatted=False)"
   ]
  },
  {
   "cell_type": "markdown",
   "metadata": {},
   "source": [
    "### [HDP](https://radimrehurek.com/gensim/models/hdpmodel.html) (Hierarchical Dirichlet Process)\n",
    "An HDP model is fully unsupervised. It can also determine the ideal number of topics through posterior inference. This property of HDP is particularly useful when in the \"online\" mode where the number of documents keep streaming and hence the number of topics becomes hard to determine before-hand as in LDA."
   ]
  },
  {
   "cell_type": "code",
   "execution_count": 66,
   "metadata": {
    "collapsed": true
   },
   "outputs": [],
   "source": [
    "from gensim.models import HdpModel"
   ]
  },
  {
   "cell_type": "code",
   "execution_count": 67,
   "metadata": {
    "collapsed": true
   },
   "outputs": [],
   "source": [
    "hdpm = HdpModel(corpus=corpus, id2word=dictionary)"
   ]
  },
  {
   "cell_type": "code",
   "execution_count": 68,
   "metadata": {},
   "outputs": [
    {
     "data": {
      "text/plain": [
       "[u'topic 0: 0.006*india + 0.004*time + 0.004*year + 0.004*apple + 0.004*china + 0.003*market + 0.003*world + 0.003*today + 0.003*chef + 0.003*week + 0.002*iphone + 0.002*google + 0.002*tech + 0.002*day + 0.002*cheersmate + 0.002*rate + 0.002*food + 0.002*bank + 0.002*samsung + 0.002*twitter',\n",
       " u'topic 1: 0.008*thank + 0.007*travel + 0.005*time + 0.004*today + 0.003*day + 0.003*person + 0.003*week + 0.003*year + 0.003*video + 0.003*way + 0.003*thing + 0.002*life + 0.002*world + 0.002*photo + 0.002*scientist + 0.002*kid + 0.002*story + 0.002*love + 0.002*man + 0.002*woman',\n",
       " u'topic 2: 0.011*france + 0.004*day + 0.004*hillary_clinton + 0.004*twitter + 0.003*trump + 0.003*travel + 0.003*paris + 0.003*france_france + 0.002*world + 0.002*thank + 0.002*linux + 0.002*tweet + 0.002*person + 0.002*window + 0.002*earth + 0.002*today + 0.002*driver + 0.002*rio + 0.002*support + 0.002*week',\n",
       " u'topic 3: 0.006*thank + 0.004*trump + 0.004*year + 0.003*person + 0.003*week + 0.003*world + 0.003*day + 0.003*research + 0.003*time + 0.003*energy + 0.003*testimonial + 0.002*life + 0.002*book + 0.002*fan + 0.002*game + 0.002*today + 0.002*scientist + 0.002*science + 0.002*work + 0.002*way',\n",
       " u'topic 4: 0.007*travel + 0.004*iphone + 0.003*apple + 0.003*time + 0.003*world + 0.002*week + 0.002*thank + 0.002*person + 0.002*thing + 0.002*apple_watch + 0.002*appleevent + 0.002*photo + 0.002*day + 0.002*business + 0.002*year + 0.001*way + 0.001*daily + 0.001*camera + 0.001*news + 0.001*life',\n",
       " u'topic 5: 0.004*usopen + 0.004*day + 0.004*eurosport + 0.004*set + 0.004*today + 0.004*week + 0.004*entrepreneur + 0.003*magma + 0.003*tonight + 0.003*world + 0.003*thank + 0.003*coldwater + 0.003*man + 0.003*stage + 0.002*time + 0.002*coverage + 0.002*startup + 0.002*tdf + 0.002*podcast + 0.002*gojira',\n",
       " u'topic 6: 0.006*google + 0.005*facebook + 0.004*tcdisrupt + 0.004*apple + 0.002*game + 0.002*user + 0.002*twitter + 0.002*tech + 0.002*microsoft + 0.002*sony + 0.002*test + 0.002*iphone + 0.002*window + 0.002*company + 0.002*time + 0.002*year + 0.002*app + 0.002*person + 0.001*smartphone + 0.001*internet',\n",
       " u'topic 7: 0.004*person + 0.004*tmnt + 0.004*today + 0.003*time + 0.003*theater + 0.003*year + 0.002*story + 0.002*bus + 0.002*benhur + 0.002*tech + 0.002*trailer + 0.002*day + 0.002*show + 0.002*share + 0.002*star + 0.002*turtle + 0.002*team + 0.002*woman + 0.002*work + 0.002*thing',\n",
       " u'topic 8: 0.003*india + 0.003*album + 0.003*cheese + 0.002*chocolate + 0.002*cake + 0.002*summit + 0.002*watch + 0.002*song + 0.002*person + 0.002*ice_cream + 0.002*minister + 0.002*music + 0.002*water + 0.002*talk + 0.001*ticket + 0.001*david_bowie + 0.001*pizza + 0.001*time + 0.001*fan + 0.001*president',\n",
       " u'topic 9: 0.016*travel + 0.013*recipe + 0.006*ironmaiden + 0.003*rio + 0.002*thank + 0.002*time + 0.002*india + 0.002*ironmaiden_spain + 0.002*woman + 0.002*year + 0.002*day + 0.002*tonight + 0.002*ironmaiden_italy + 0.002*team + 0.002*cheese + 0.001*birthday + 0.001*china + 0.001*solo + 0.001*city + 0.001*congratulation',\n",
       " u'topic 10: 0.004*watch + 0.004*goal + 0.003*theater + 0.003*india + 0.003*slvaus + 0.003*england + 0.002*pokemon + 0.002*australia + 0.002*sri_lanka + 0.002*game + 0.002*trainer + 0.002*team + 0.002*sky_sport + 0.002*man + 0.002*match + 0.002*mnf + 0.002*everton + 0.002*pakistan + 0.002*test + 0.002*pokemongo',\n",
       " u'topic 11: 0.006*video + 0.004*one + 0.004*today + 0.004*thank + 0.003*apple + 0.003*day + 0.003*time + 0.003*world + 0.003*euro + 0.002*person + 0.002*bigtheparty + 0.002*party + 0.002*everyone + 0.002*night + 0.002*team + 0.001*coloring_book + 0.001*life + 0.001*euro_davidguetta + 0.001*friend + 0.001*tomorrow',\n",
       " u'topic 12: 0.011*travel + 0.005*world + 0.004*cnnfood + 0.002*earth + 0.002*mission + 0.002*space + 0.002*way + 0.002*today + 0.002*city + 0.002*time + 0.002*spacecraft + 0.002*sample_return + 0.002*launch + 0.002*dessert + 0.002*guide + 0.002*day + 0.002*japan + 0.001*view + 0.001*dish + 0.001*park',\n",
       " u'topic 13: 0.004*album + 0.004*song + 0.004*video + 0.002*track + 0.002*share + 0.002*year + 0.002*watch + 0.002*film + 0.001*review + 0.001*stream + 0.001*week + 0.001*science + 0.001*way + 0.001*life + 0.001*star_trek + 0.001*recording + 0.001*person + 0.001*band + 0.001*book + 0.001*game',\n",
       " u'topic 14: 0.004*goal + 0.003*time + 0.002*today + 0.002*day + 0.002*ageofultron_presstour + 0.002*chelsea + 0.001*game + 0.001*dystrophaeus_fossiltime + 0.001*diego_costa + 0.001*arsenal + 0.001*watch + 0.001*way + 0.001*man + 0.001*liverpool + 0.001*shirt + 0.001*year + 0.001*season + 0.001*fossilfriday + 0.001*presstour + 0.001*point',\n",
       " u'topic 15: 0.003*space + 0.003*earth + 0.003*year + 0.002*recipe + 0.002*voyager + 0.002*scientist + 0.002*today + 0.002*travel + 0.002*day + 0.002*system + 0.002*pic + 0.002*time + 0.001*water + 0.001*star + 0.001*fossil + 0.001*summer + 0.001*edge + 0.001*tip + 0.001*idea + 0.001*tonight',\n",
       " u'topic 16: 0.005*video + 0.005*canada + 0.004*album + 0.002*song + 0.002*singer + 0.002*china + 0.002*chine + 0.002*today + 0.002*frontman + 0.001*avec + 0.001*discussion + 0.001*shanghai + 0.001*pour + 0.001*metallica + 0.001*time + 0.001*thank + 0.001*tour + 0.001*paralympique + 0.001*music + 0.001*day',\n",
       " u'topic 17: 0.004*halloween + 0.003*year + 0.003*video + 0.003*vmas + 0.002*today + 0.002*time + 0.002*vma + 0.002*fan + 0.002*game + 0.002*performance + 0.002*thank + 0.002*day + 0.002*ticket + 0.002*night + 0.002*tonight + 0.002*resetind + 0.002*halloween_destination + 0.002*kanye + 0.001*guy + 0.001*techno',\n",
       " u'topic 18: 0.004*thank + 0.003*time + 0.003*show + 0.003*video + 0.003*tonight + 0.003*night + 0.002*year + 0.002*today + 0.002*world + 0.002*coldplay + 0.002*stage + 0.002*song + 0.002*person + 0.002*day + 0.002*band + 0.002*guy + 0.002*love + 0.001*man + 0.001*tonight_show + 0.001*tour',\n",
       " u'topic 19: 0.005*india + 0.004*fashion + 0.002*periscope + 0.002*day + 0.002*person + 0.002*nyfw + 0.002*award + 0.002*life + 0.001*today + 0.001*nation + 0.001*summit + 0.001*relation + 0.001*president + 0.001*canneslion + 0.001*show + 0.001*runway + 0.001*discussion + 0.001*congratulation + 0.001*blueroom + 0.001*talk']"
      ]
     },
     "execution_count": 68,
     "metadata": {},
     "output_type": "execute_result"
    }
   ],
   "source": [
    "hdpm.show_topics()"
   ]
  },
  {
   "cell_type": "markdown",
   "metadata": {},
   "source": [
    "HDP surely comes up with better, more human interpretable topics as we can see. There are topics which clearly talk about sports, others which only have words related to politics or some which relate to travel. As we saw above in LSI, the topics were a bit mixed up. HDP doesn't seem to mix it up as much."
   ]
  },
  {
   "cell_type": "code",
   "execution_count": 69,
   "metadata": {
    "collapsed": true
   },
   "outputs": [],
   "source": [
    "hdpmtopics = hdpm.show_topics(num_topics=-1, num_words=10, formatted=False)"
   ]
  },
  {
   "cell_type": "markdown",
   "metadata": {},
   "source": [
    "### [LDA](https://radimrehurek.com/gensim/models/ldamodel.html) (Latent Dirichlet Allocation)\n",
    "This is one the most popular topic modeling algorithms today. It is a generative model in that it assumes each document is a mixture of topics and in turn, each topic is a mixture of words. To understand it better you can watch [this](https://www.youtube.com/watch?v=DDq3OVp9dNA) lecture by David Blei.\n",
    "<img src=\"images/blei_news.png\">"
   ]
  },
  {
   "cell_type": "code",
   "execution_count": 70,
   "metadata": {
    "collapsed": true
   },
   "outputs": [],
   "source": [
    "ldam = LdaModel(corpus=corpus, num_topics=100, id2word=dictionary)"
   ]
  },
  {
   "cell_type": "code",
   "execution_count": 71,
   "metadata": {},
   "outputs": [
    {
     "data": {
      "text/plain": [
       "[(4,\n",
       "  u'0.008*year + 0.007*sciart + 0.005*today + 0.005*world + 0.004*fossil + 0.004*fish + 0.004*earth + 0.004*tonight + 0.004*day + 0.004*thing'),\n",
       " (44,\n",
       "  u'0.009*thank + 0.009*video + 0.008*time + 0.007*tonight + 0.007*today + 0.006*world + 0.006*day + 0.006*year + 0.005*thing + 0.004*show'),\n",
       " (67,\n",
       "  u'0.007*watch + 0.006*france + 0.005*goal + 0.005*world + 0.004*debate + 0.004*sky_sport + 0.004*thank + 0.003*year + 0.003*day + 0.003*today'),\n",
       " (36,\n",
       "  u'0.010*video + 0.009*time + 0.008*today + 0.008*thank + 0.008*year + 0.007*week + 0.006*day + 0.006*album + 0.005*life + 0.005*world'),\n",
       " (98,\n",
       "  u'0.011*thank + 0.009*cpp + 0.009*day + 0.008*today + 0.008*earth + 0.008*space + 0.006*time + 0.005*year + 0.005*mission + 0.005*sciart'),\n",
       " (83,\n",
       "  u'0.008*time + 0.005*year + 0.005*day + 0.005*champion + 0.005*world + 0.005*today + 0.004*tonight + 0.004*ceo_medium + 0.004*thank + 0.003*season'),\n",
       " (51,\n",
       "  u'0.008*time + 0.007*thank + 0.007*day + 0.006*india + 0.006*year + 0.005*science + 0.005*trump + 0.005*week + 0.004*album + 0.004*halloween'),\n",
       " (50,\n",
       "  u'0.014*thank + 0.008*day + 0.007*time + 0.007*world + 0.005*game + 0.005*year + 0.005*today + 0.005*video + 0.004*week + 0.004*person'),\n",
       " (80,\n",
       "  u'0.008*thank + 0.007*time + 0.005*person + 0.004*world + 0.004*day + 0.004*way + 0.004*today + 0.004*apple + 0.004*year + 0.004*iphone'),\n",
       " (33,\n",
       "  u'0.013*france + 0.007*world + 0.007*thank + 0.006*time + 0.006*day + 0.006*year + 0.005*team + 0.005*trump + 0.005*today + 0.004*pokemon')]"
      ]
     },
     "execution_count": 71,
     "metadata": {},
     "output_type": "execute_result"
    }
   ],
   "source": [
    "ldam.show_topics()"
   ]
  },
  {
   "cell_type": "markdown",
   "metadata": {},
   "source": [
    "`LdaModel` also comes up with decent topics. We can decipher some topics by the word distributions."
   ]
  },
  {
   "cell_type": "code",
   "execution_count": 72,
   "metadata": {
    "collapsed": true
   },
   "outputs": [],
   "source": [
    "ldamtopics = ldam.show_topics(num_topics=-1, formatted=False)"
   ]
  },
  {
   "cell_type": "markdown",
   "metadata": {},
   "source": [
    "# Topic Coherence\n",
    "<img src='images/pipeline.png'>\n",
    "Topic coherence is a way to quantify the human interpretability of the topics. Simply enter the __topics 't'__ and you get __coherence value 'c'__ as the output! The topic coherence pipeline recently got merged into gensim which was based on [this](http://svn.aksw.org/papers/2015/WSDM_Topic_Evaluation/public.pdf) paper by Roeder et al.\n",
    "\n",
    "This is a great way to compare individual topics and can be extended to comparing different topic models as well. We will be doing this later on in this tutorial.\n",
    "\n",
    "To know more about topic coherence you can read my blog [here](https://rare-technologies.com/what-is-topic-coherence/) where I have to tried to give an introductory explanation of how topic coherence works.\n",
    "\n",
    "### Finding optimal number of topics\n",
    "As we saw above, `LdaModel` requires the number of topics to be entered for fitting it. This is one of the problem of LDA as knowing the number of topics beforehand can be a challenging task especially in an online setting. Traditionally, perplexity has been used to find out the optimum number of topics. We will be using topic coherence instead. The logic is pretty simple in that: \"Let's select the number of topics which we can understand easily\"."
   ]
  },
  {
   "cell_type": "code",
   "execution_count": 73,
   "metadata": {},
   "outputs": [],
   "source": [
    "import operator\n",
    "from gensim.models import CoherenceModel"
   ]
  },
  {
   "cell_type": "code",
   "execution_count": 74,
   "metadata": {
    "collapsed": true
   },
   "outputs": [],
   "source": [
    "BASE = 6  # base number of topics for graph evaluation"
   ]
  },
  {
   "cell_type": "code",
   "execution_count": 75,
   "metadata": {},
   "outputs": [],
   "source": [
    "def evaluate_graph(dictionary, corpus, texts, limit):\n",
    "    \"\"\"\n",
    "    Function to display num_topics - LDA graph using c_v coherence\n",
    "    \n",
    "    Parameters:\n",
    "    ----------\n",
    "    dictionary : Gensim dictionary\n",
    "    corpus : Gensim corpus\n",
    "    limit : topic limit\n",
    "    \n",
    "    Returns:\n",
    "    -------\n",
    "    lm_list : List of LDA topic models\n",
    "    \"\"\"\n",
    "    if limit < BASE:\n",
    "        raise ValueError(\"Please enter limit > %d. You entered %d\" % (BASE, limit))\n",
    "    c_v = []\n",
    "    lm_list = []\n",
    "    for num_topics in range(BASE, limit):\n",
    "        lm = LdaModel(corpus=corpus, num_topics=num_topics, id2word=dictionary)\n",
    "        lm_list.append(lm)\n",
    "        cm = CoherenceModel(model=lm, texts=texts, dictionary=dictionary, coherence='c_v')\n",
    "        c_v.append(cm.get_coherence())\n",
    "        \n",
    "    # Show graph\n",
    "    x = range(6, limit)\n",
    "    plt.plot(x, c_v)\n",
    "    plt.xlabel(\"num_topics\")\n",
    "    plt.ylabel(\"Coherence score\")\n",
    "    plt.legend((\"c_v\"), loc='best')\n",
    "    plt.show()\n",
    "    \n",
    "    return lm_list, c_v"
   ]
  },
  {
   "cell_type": "markdown",
   "metadata": {},
   "source": [
    "We iteratively train LdaModels for different number of topics ranging from 6 to 15. Topics lesser than 6 might not make sense however we should be getting the ideal value around 8 as the number of categories we have are 8.\n",
    "\n",
    "__Warning__: Can take quite long to compute. If you want to reduce the amount of time taken here, you can reduce the limit or better, change the coherence algorithm to `u_mass` instead. However it has been experimentally proven that `c_v` correlates best with human interpretation."
   ]
  },
  {
   "cell_type": "code",
   "execution_count": 76,
   "metadata": {
    "scrolled": false
   },
   "outputs": [
    {
     "data": {
      "image/png": "[encoded data removed]",
      "text/plain": [
       "<matplotlib.figure.Figure at 0x7f28b7dc8710>"
      ]
     },
     "metadata": {},
     "output_type": "display_data"
    },
    {
     "name": "stdout",
     "output_type": "stream",
     "text": [
      "CPU times: user 2min 9s, sys: 328 ms, total: 2min 9s\n",
      "Wall time: 2min 10s\n"
     ]
    }
   ],
   "source": [
    "%%time\n",
    "lm_list, c_v = evaluate_graph(dictionary, corpus, train_texts, 15)"
   ]
  },
  {
   "cell_type": "code",
   "execution_count": 77,
   "metadata": {},
   "outputs": [],
   "source": [
    "ldam_tc = lm_list[np.argmax(c_v)]  # Select the LdaModel corresponding to the best coherence value"
   ]
  },
  {
   "cell_type": "code",
   "execution_count": 78,
   "metadata": {},
   "outputs": [
    {
     "data": {
      "text/plain": [
       "[(0,\n",
       "  u'0.008*video + 0.006*time + 0.006*day + 0.005*week + 0.005*year + 0.005*today + 0.005*thank + 0.004*travel + 0.004*world + 0.004*iphone'),\n",
       " (1,\n",
       "  u'0.006*year + 0.006*time + 0.006*thank + 0.005*day + 0.005*video + 0.004*world + 0.004*today + 0.004*tonight + 0.004*person + 0.003*way'),\n",
       " (2,\n",
       "  u'0.009*day + 0.007*time + 0.006*travel + 0.005*thank + 0.005*year + 0.004*video + 0.004*today + 0.003*person + 0.003*week + 0.003*man'),\n",
       " (3,\n",
       "  u'0.013*travel + 0.010*thank + 0.008*france + 0.007*time + 0.005*day + 0.005*year + 0.005*world + 0.004*week + 0.004*today + 0.004*person'),\n",
       " (4,\n",
       "  u'0.009*today + 0.008*time + 0.006*thank + 0.006*day + 0.006*world + 0.005*travel + 0.005*year + 0.005*week + 0.004*person + 0.004*thing'),\n",
       " (5,\n",
       "  u'0.009*recipe + 0.007*time + 0.006*today + 0.005*year + 0.005*world + 0.005*day + 0.004*video + 0.004*week + 0.004*person + 0.004*thank'),\n",
       " (6,\n",
       "  u'0.008*thank + 0.007*today + 0.006*day + 0.006*year + 0.006*time + 0.005*trump + 0.005*week + 0.005*world + 0.004*person + 0.004*video'),\n",
       " (7,\n",
       "  u'0.005*travel + 0.005*time + 0.005*person + 0.005*day + 0.004*today + 0.004*thank + 0.004*week + 0.003*tonight + 0.003*world + 0.003*year')]"
      ]
     },
     "execution_count": 78,
     "metadata": {},
     "output_type": "execute_result"
    }
   ],
   "source": [
    "ldam_tc.show_topics(num_topics=-1)"
   ]
  },
  {
   "cell_type": "code",
   "execution_count": 79,
   "metadata": {},
   "outputs": [],
   "source": [
    "ldam_tctopics = ldam_tc.show_topics(num_topics=-1, formatted=False)"
   ]
  },
  {
   "cell_type": "markdown",
   "metadata": {},
   "source": [
    "### LDA as LSI\n",
    "As we saw above, LSI can automatically rank topics. We can actually do the same with LDA also by making it work with the topic coherence pipeline. We rank individual topics based on their human interpretability.\n",
    "\n",
    "We will be going one step further here and making a new LDA model by using only the best topics from the first LDA model. An \"LDA migration\" of sorts! This can be done by selecting the `alphas` and `betas` corresponding to only the best topics from the first LDA model and transferring them onto the new model."
   ]
  },
  {
   "cell_type": "code",
   "execution_count": 80,
   "metadata": {
    "collapsed": true
   },
   "outputs": [],
   "source": [
    "def ret_top_model(num_topics):\n",
    "    \"\"\"\n",
    "    Since LDAmodel is a probabilistic model, it comes up different topics each time we run it. To control the\n",
    "    quality of the topic model we produce, we can create another topic model from only the most coherent n topics\n",
    "    from the LDAmodel.\n",
    "    \n",
    "    Parameters:\n",
    "    ----------\n",
    "    num_topics: Number of top topics for new LdaModel.\n",
    "    \n",
    "    Returns:\n",
    "    -------\n",
    "    refined_lm: Final evaluated topic model\n",
    "    top_topics: ranked topics in decreasing order. List of tuples\n",
    "    \"\"\"\n",
    "    lm = LdaModel(corpus=corpus, id2word=dictionary)\n",
    "    coherence_values = {}\n",
    "    doc = []\n",
    "    for n, topic in lm.show_topics(num_topics=-1, formatted=False):\n",
    "        topic = [word for word, _ in topic]\n",
    "        cm = CoherenceModel(topics=[topic], texts=train_texts, dictionary=dictionary)\n",
    "        coherence_values[n] = cm.get_coherence()\n",
    "    top_topics = sorted(coherence_values.items(), key=operator.itemgetter(1), reverse=True)[:num_topics]\n",
    "    top_topics = [t for t, c in top_topics]\n",
    "    alpha = lm.alpha[top_topics]\n",
    "    beta = lm.expElogbeta[top_topics, :]\n",
    "    refined_lm = LdaModel(corpus=corpus, id2word=dictionary, num_topics=num_topics, alpha=alpha)\n",
    "    refined_lm.expElogbeta[:] = beta\n",
    "    return refined_lm"
   ]
  },
  {
   "cell_type": "markdown",
   "metadata": {},
   "source": [
    "__Warning__: Can take some time to run"
   ]
  },
  {
   "cell_type": "code",
   "execution_count": 81,
   "metadata": {},
   "outputs": [
    {
     "name": "stdout",
     "output_type": "stream",
     "text": [
      "CPU times: user 1min 45s, sys: 1min 30s, total: 3min 15s\n",
      "Wall time: 1min 33s\n"
     ]
    }
   ],
   "source": [
    "%%time\n",
    "lda_lsim = ret_top_model(BASE + np.argmax(c_v))  # Using the value we found above"
   ]
  },
  {
   "cell_type": "code",
   "execution_count": 82,
   "metadata": {},
   "outputs": [
    {
     "data": {
      "text/plain": [
       "[(0,\n",
       "  u'0.007*thank + 0.006*year + 0.006*france + 0.005*time + 0.005*person + 0.004*day + 0.004*today + 0.004*travel + 0.004*india + 0.003*week'),\n",
       " (1,\n",
       "  u'0.009*day + 0.008*time + 0.007*today + 0.006*thank + 0.006*world + 0.004*week + 0.004*video + 0.004*recipe + 0.004*year + 0.003*tonight'),\n",
       " (2,\n",
       "  u'0.006*time + 0.006*year + 0.005*travel + 0.005*thank + 0.004*world + 0.004*trump + 0.004*video + 0.004*day + 0.004*week + 0.004*today'),\n",
       " (3,\n",
       "  u'0.008*thank + 0.006*time + 0.006*year + 0.005*today + 0.005*video + 0.005*day + 0.005*world + 0.004*person + 0.004*way + 0.003*thing'),\n",
       " (4,\n",
       "  u'0.014*travel + 0.007*time + 0.006*today + 0.006*thank + 0.005*day + 0.005*week + 0.005*world + 0.004*year + 0.004*trump + 0.003*tonight'),\n",
       " (5,\n",
       "  u'0.008*time + 0.007*day + 0.007*thank + 0.006*week + 0.006*today + 0.005*year + 0.004*travel + 0.004*person + 0.004*world + 0.004*video'),\n",
       " (6,\n",
       "  u'0.007*year + 0.006*today + 0.006*france + 0.005*day + 0.005*time + 0.004*world + 0.004*thank + 0.004*week + 0.004*travel + 0.003*person'),\n",
       " (7,\n",
       "  u'0.009*video + 0.007*thank + 0.006*day + 0.006*today + 0.005*person + 0.005*time + 0.005*world + 0.004*year + 0.004*week + 0.003*trump')]"
      ]
     },
     "execution_count": 82,
     "metadata": {},
     "output_type": "execute_result"
    }
   ],
   "source": [
    "lda_lsim.show_topics(-1)"
   ]
  },
  {
   "cell_type": "markdown",
   "metadata": {},
   "source": [
    "HDP model still seems like the best one yet...."
   ]
  },
  {
   "cell_type": "code",
   "execution_count": 83,
   "metadata": {
    "collapsed": true
   },
   "outputs": [],
   "source": [
    "lda_lsimtopics = lda_lsim.show_topics(num_topics=-1, formatted=False)"
   ]
  },
  {
   "cell_type": "markdown",
   "metadata": {},
   "source": [
    "Let's transfer out HDP model into an LDA model. We can do these by copying over the corresponding alphas and betas into the LDA model. This will also help us calculate topic inferences easily if this turns out to be the best LDA model so far."
   ]
  },
  {
   "cell_type": "code",
   "execution_count": 84,
   "metadata": {
    "collapsed": true
   },
   "outputs": [],
   "source": [
    "alpha, beta = hdpm.hdp_to_lda()\n",
    "num_topics = len(hdpmtopics)"
   ]
  },
  {
   "cell_type": "code",
   "execution_count": 85,
   "metadata": {},
   "outputs": [
    {
     "name": "stdout",
     "output_type": "stream",
     "text": [
      "CPU times: user 1min 57s, sys: 2min 29s, total: 4min 27s\n",
      "Wall time: 1min 45s\n"
     ]
    }
   ],
   "source": [
    "%%time\n",
    "lda_hdp = LdaModel(corpus=corpus, id2word=dictionary, num_topics=num_topics, alpha=alpha)\n",
    "lda_hdp.expElogbeta[:] = beta"
   ]
  },
  {
   "cell_type": "markdown",
   "metadata": {},
   "source": [
    "### Evaluating all topic models\n",
    "Finally, we will be using the topic coherence pipeline to compare all the topic models we have created so far. Till now we have only been qualitatively comparing the models. The topic coherence pipeline allows us to quantitatively compare the different topic models. "
   ]
  },
  {
   "cell_type": "code",
   "execution_count": 86,
   "metadata": {
    "collapsed": true
   },
   "outputs": [],
   "source": [
    "lsimtopics = [[word for word, prob in topic] for topicid, topic in lsimtopics]\n",
    "hdpmtopics = [[word for word, prob in topic] for topicid, topic in hdpmtopics]\n",
    "ldamtopics = [[word for word, prob in topic] for topicid, topic in ldamtopics]\n",
    "ldam_tctopics = [[word for word, prob in topic] for topicid, topic in ldam_tctopics]\n",
    "lda_lsimtopics = [[word for word, prob in topic] for topicid, topic in lda_lsimtopics]"
   ]
  },
  {
   "cell_type": "code",
   "execution_count": 87,
   "metadata": {},
   "outputs": [
    {
     "name": "stdout",
     "output_type": "stream",
     "text": [
      "CPU times: user 1min 34s, sys: 856 ms, total: 1min 35s\n",
      "Wall time: 1min 34s\n"
     ]
    }
   ],
   "source": [
    "%%time\n",
    "lsi_coherence = CoherenceModel(topics=lsimtopics, texts=train_texts, dictionary=dictionary, window_size=110).get_coherence()\n",
    "hdp_coherence = CoherenceModel(topics=hdpmtopics, texts=train_texts, dictionary=dictionary, window_size=110).get_coherence()\n",
    "lda_coherence = CoherenceModel(topics=ldamtopics, texts=train_texts, dictionary=dictionary, window_size=110).get_coherence()\n",
    "lm_coherence = CoherenceModel(topics=ldam_tctopics, texts=train_texts, dictionary=dictionary, window_size=110).get_coherence()\n",
    "lda_lsi_coherence = CoherenceModel(topics=lda_lsimtopics, texts=train_texts, dictionary=dictionary, window_size=110).get_coherence()\n",
    "lda_hdp_coherence = CoherenceModel(model=lda_hdp, texts=train_texts, dictionary=dictionary).get_coherence()"
   ]
  },
  {
   "cell_type": "code",
   "execution_count": 88,
   "metadata": {
    "collapsed": true
   },
   "outputs": [],
   "source": [
    "def evaluate_bar_graph(coherences, indices):\n",
    "    \"\"\"\n",
    "    Function to plot bar graph.\n",
    "    \n",
    "    coherences: list of coherence values\n",
    "    indices: Indices to be used to mark bars. Length of this and coherences should be equal.\n",
    "    \"\"\"\n",
    "    assert len(coherences) == len(indices)\n",
    "    n = len(coherences)\n",
    "    x = np.arange(n)\n",
    "    plt.bar(x, coherences, width=0.2, tick_label=indices, align='center')\n",
    "    plt.xlabel('Models')\n",
    "    plt.ylabel('Coherence Value')"
   ]
  },
  {
   "cell_type": "code",
   "execution_count": 89,
   "metadata": {},
   "outputs": [
    {
     "data": {
      "image/png": "[encoded data removed]",
      "text/plain": [
       "<matplotlib.figure.Figure at 0x7f28b770e790>"
      ]
     },
     "metadata": {},
     "output_type": "display_data"
    }
   ],
   "source": [
    "evaluate_bar_graph([lsi_coherence, hdp_coherence, lda_coherence, lm_coherence, lda_lsi_coherence, lda_hdp_coherence],\n",
    "                   ['LSI', 'HDP', 'LDA', 'LDA_TC', 'LDA_LSI', 'LDA_HDP'])"
   ]
  },
  {
   "cell_type": "markdown",
   "metadata": {},
   "source": [
    "Our intuition was correct! HDP model turned out to be the best one and the transferred HDP model turned out to be the best LDA model. I would have liked our optimal topics and lda_lsi to perform better but we can be happy that it at least performs better than vanilla LDA!\n",
    "\n",
    "__DO REMEMBER__ that these values and topic models only correspond to this dataset and can vary accross different datasets. In fact since LDA models are probabilistic, they can vary a lot across runs too! We could have done better in LDA tuning however this was a tutorial on how topic coherence in particular can be used for LDA tuning. \n",
    "I have observed that HDP models generally perform better when each `text` within `texts` has a lot of tokens. You will notice that the comparison turned out to be very different in my [news classification notebook](https://github.com/RaRe-Technologies/gensim/blob/develop/docs/notebooks/gensim_news_classification.ipynb)."
   ]
  },
  {
   "cell_type": "markdown",
   "metadata": {},
   "source": [
    "We can infer topic distributions from individual word tokens"
   ]
  },
  {
   "cell_type": "code",
   "execution_count": 90,
   "metadata": {},
   "outputs": [
    {
     "data": {
      "text/plain": [
       "[(0, 0.020747190128077891),\n",
       " (1, 0.019132123096832977),\n",
       " (2, 0.016139639448699408),\n",
       " (3, 0.01466698318688031),\n",
       " (4, 0.01280826381320767),\n",
       " (5, 0.013691593304914174),\n",
       " (6, 0.011918783422575916),\n",
       " (7, 0.010239610875683031),\n",
       " (43, 0.75037037002323403)]"
      ]
     },
     "execution_count": 90,
     "metadata": {},
     "output_type": "execute_result"
    }
   ],
   "source": [
    "lda_hdp[dictionary.doc2bow(['jimmy', 'fallon', 'entertainment'])]"
   ]
  },
  {
   "cell_type": "code",
   "execution_count": 91,
   "metadata": {},
   "outputs": [
    {
     "data": {
      "text/plain": [
       "[(u'day', 0.017776982820222609),\n",
       " (u'thank', 0.017530375102726602),\n",
       " (u'today', 0.0093509429714728511),\n",
       " (u'time', 0.0091917077501350638),\n",
       " (u'video', 0.0083852904330239935),\n",
       " (u'tonight', 0.0080587858839864888),\n",
       " (u'night', 0.006174189534930808),\n",
       " (u'year', 0.0060241990951865271),\n",
       " (u'world', 0.0055886437953409024),\n",
       " (u'testimonial', 0.0042638615442785023)]"
      ]
     },
     "execution_count": 91,
     "metadata": {},
     "output_type": "execute_result"
    }
   ],
   "source": [
    "lda_hdp.show_topic(43, topn=10)"
   ]
  },
  {
   "cell_type": "markdown",
   "metadata": {},
   "source": [
    "# LDA topic inference for classification\n",
    "In this tutorial we will be using our best LDA model from above for inference and classification. When we use LDA for inference it gives large probabilities for some topics but negligible for the others. This is how it looks like:\n",
    "<img src='images/inference.jpg'>\n",
    "<center> _Image taken from Blei's video on LDA_ </center>\n",
    "\n",
    "__This is the pipeline we're following for LDA inference classification__ (wanted to see how well I can use the pencil in gimp):\n",
    "<img src='images/lda_dim_red.png'>\n",
    "P, B = Preprocessing, bigram collocation\n",
    "\n",
    "LDA = LDA model for inference\n",
    "\n",
    "CLF = Classifier"
   ]
  },
  {
   "cell_type": "markdown",
   "metadata": {},
   "source": [
    "As we can see above in the graph, LDA inference yields positive values for only some topics and negligible values for the others. We can assume them to be 0 to create our dataframe."
   ]
  },
  {
   "cell_type": "code",
   "execution_count": 92,
   "metadata": {
    "collapsed": true
   },
   "outputs": [],
   "source": [
    "def ret_lda_features(ldamodel, texts, num_topics):\n",
    "    \"\"\"\n",
    "    Function to return LDA inference features for texts.\n",
    "    \n",
    "    Parameters:\n",
    "    ----------\n",
    "    ldamodel: LDA model to infer docs\n",
    "    texts: Texts to be inferred\n",
    "    num_topics: Number of topics. Will determine columns in dataframe\n",
    "    \n",
    "    Returns:\n",
    "    -------\n",
    "    lda_features: LDA features dataframe\n",
    "    \"\"\"\n",
    "    lda_features = pd.DataFrame()\n",
    "    for message in texts:\n",
    "        features = np.zeros(shape=(1, num_topics))\n",
    "        inference = ldamodel[dictionary.doc2bow(message)]\n",
    "        for tid, val in inference:\n",
    "            features[:, tid] = val\n",
    "        features = pd.DataFrame(features)\n",
    "        lda_features = lda_features.append(features, ignore_index=True)\n",
    "    return lda_features"
   ]
  },
  {
   "cell_type": "code",
   "execution_count": 93,
   "metadata": {},
   "outputs": [],
   "source": [
    "train_lda_features = ret_lda_features(lda_hdp, train_texts, num_topics)"
   ]
  },
  {
   "cell_type": "code",
   "execution_count": 94,
   "metadata": {},
   "outputs": [
    {
     "data": {
      "text/plain": [
       "(152, 150)"
      ]
     },
     "execution_count": 94,
     "metadata": {},
     "output_type": "execute_result"
    }
   ],
   "source": [
    "train_lda_features.shape"
   ]
  },
  {
   "cell_type": "code",
   "execution_count": 95,
   "metadata": {},
   "outputs": [
    {
     "data": {
      "text/html": [
       "<div>\n",
       "<table border=\"1\" class=\"dataframe\">\n",
       "  <thead>\n",
       "    <tr style=\"text-align: right;\">\n",
       "      <th></th>\n",
       "      <th>0</th>\n",
       "      <th>1</th>\n",
       "      <th>2</th>\n",
       "      <th>3</th>\n",
       "      <th>4</th>\n",
       "      <th>5</th>\n",
       "      <th>6</th>\n",
       "      <th>7</th>\n",
       "      <th>8</th>\n",
       "      <th>9</th>\n",
       "      <th>...</th>\n",
       "      <th>140</th>\n",
       "      <th>141</th>\n",
       "      <th>142</th>\n",
       "      <th>143</th>\n",
       "      <th>144</th>\n",
       "      <th>145</th>\n",
       "      <th>146</th>\n",
       "      <th>147</th>\n",
       "      <th>148</th>\n",
       "      <th>149</th>\n",
       "    </tr>\n",
       "  </thead>\n",
       "  <tbody>\n",
       "    <tr>\n",
       "      <th>0</th>\n",
       "      <td>0.998759</td>\n",
       "      <td>0.0</td>\n",
       "      <td>0.0</td>\n",
       "      <td>0.0</td>\n",
       "      <td>0.0</td>\n",
       "      <td>0.0</td>\n",
       "      <td>0.0</td>\n",
       "      <td>0.0</td>\n",
       "      <td>0.0</td>\n",
       "      <td>0.0</td>\n",
       "      <td>...</td>\n",
       "      <td>0.0</td>\n",
       "      <td>0.0</td>\n",
       "      <td>0.0</td>\n",
       "      <td>0.0</td>\n",
       "      <td>0.0</td>\n",
       "      <td>0.0</td>\n",
       "      <td>0.0</td>\n",
       "      <td>0.0</td>\n",
       "      <td>0.0</td>\n",
       "      <td>0.0</td>\n",
       "    </tr>\n",
       "    <tr>\n",
       "      <th>1</th>\n",
       "      <td>0.000000</td>\n",
       "      <td>0.0</td>\n",
       "      <td>0.0</td>\n",
       "      <td>0.0</td>\n",
       "      <td>0.0</td>\n",
       "      <td>0.0</td>\n",
       "      <td>0.0</td>\n",
       "      <td>0.0</td>\n",
       "      <td>0.0</td>\n",
       "      <td>0.0</td>\n",
       "      <td>...</td>\n",
       "      <td>0.0</td>\n",
       "      <td>0.0</td>\n",
       "      <td>0.0</td>\n",
       "      <td>0.0</td>\n",
       "      <td>0.0</td>\n",
       "      <td>0.0</td>\n",
       "      <td>0.0</td>\n",
       "      <td>0.0</td>\n",
       "      <td>0.0</td>\n",
       "      <td>0.0</td>\n",
       "    </tr>\n",
       "    <tr>\n",
       "      <th>2</th>\n",
       "      <td>0.000000</td>\n",
       "      <td>0.0</td>\n",
       "      <td>0.0</td>\n",
       "      <td>0.0</td>\n",
       "      <td>0.0</td>\n",
       "      <td>0.0</td>\n",
       "      <td>0.0</td>\n",
       "      <td>0.0</td>\n",
       "      <td>0.0</td>\n",
       "      <td>0.0</td>\n",
       "      <td>...</td>\n",
       "      <td>0.0</td>\n",
       "      <td>0.0</td>\n",
       "      <td>0.0</td>\n",
       "      <td>0.0</td>\n",
       "      <td>0.0</td>\n",
       "      <td>0.0</td>\n",
       "      <td>0.0</td>\n",
       "      <td>0.0</td>\n",
       "      <td>0.0</td>\n",
       "      <td>0.0</td>\n",
       "    </tr>\n",
       "    <tr>\n",
       "      <th>3</th>\n",
       "      <td>0.996677</td>\n",
       "      <td>0.0</td>\n",
       "      <td>0.0</td>\n",
       "      <td>0.0</td>\n",
       "      <td>0.0</td>\n",
       "      <td>0.0</td>\n",
       "      <td>0.0</td>\n",
       "      <td>0.0</td>\n",
       "      <td>0.0</td>\n",
       "      <td>0.0</td>\n",
       "      <td>...</td>\n",
       "      <td>0.0</td>\n",
       "      <td>0.0</td>\n",
       "      <td>0.0</td>\n",
       "      <td>0.0</td>\n",
       "      <td>0.0</td>\n",
       "      <td>0.0</td>\n",
       "      <td>0.0</td>\n",
       "      <td>0.0</td>\n",
       "      <td>0.0</td>\n",
       "      <td>0.0</td>\n",
       "    </tr>\n",
       "    <tr>\n",
       "      <th>4</th>\n",
       "      <td>0.000000</td>\n",
       "      <td>0.0</td>\n",
       "      <td>0.0</td>\n",
       "      <td>0.0</td>\n",
       "      <td>0.0</td>\n",
       "      <td>0.0</td>\n",
       "      <td>0.0</td>\n",
       "      <td>0.0</td>\n",
       "      <td>0.0</td>\n",
       "      <td>0.0</td>\n",
       "      <td>...</td>\n",
       "      <td>0.0</td>\n",
       "      <td>0.0</td>\n",
       "      <td>0.0</td>\n",
       "      <td>0.0</td>\n",
       "      <td>0.0</td>\n",
       "      <td>0.0</td>\n",
       "      <td>0.0</td>\n",
       "      <td>0.0</td>\n",
       "      <td>0.0</td>\n",
       "      <td>0.0</td>\n",
       "    </tr>\n",
       "  </tbody>\n",
       "</table>\n",
       "<p>5 rows × 150 columns</p>\n",
       "</div>"
      ],
      "text/plain": [
       "        0    1    2    3    4    5    6    7    8    9   ...   140  141  142  \\\n",
       "0  0.998759  0.0  0.0  0.0  0.0  0.0  0.0  0.0  0.0  0.0 ...   0.0  0.0  0.0   \n",
       "1  0.000000  0.0  0.0  0.0  0.0  0.0  0.0  0.0  0.0  0.0 ...   0.0  0.0  0.0   \n",
       "2  0.000000  0.0  0.0  0.0  0.0  0.0  0.0  0.0  0.0  0.0 ...   0.0  0.0  0.0   \n",
       "3  0.996677  0.0  0.0  0.0  0.0  0.0  0.0  0.0  0.0  0.0 ...   0.0  0.0  0.0   \n",
       "4  0.000000  0.0  0.0  0.0  0.0  0.0  0.0  0.0  0.0  0.0 ...   0.0  0.0  0.0   \n",
       "\n",
       "   143  144  145  146  147  148  149  \n",
       "0  0.0  0.0  0.0  0.0  0.0  0.0  0.0  \n",
       "1  0.0  0.0  0.0  0.0  0.0  0.0  0.0  \n",
       "2  0.0  0.0  0.0  0.0  0.0  0.0  0.0  \n",
       "3  0.0  0.0  0.0  0.0  0.0  0.0  0.0  \n",
       "4  0.0  0.0  0.0  0.0  0.0  0.0  0.0  \n",
       "\n",
       "[5 rows x 150 columns]"
      ]
     },
     "execution_count": 95,
     "metadata": {},
     "output_type": "execute_result"
    }
   ],
   "source": [
    "train_lda_features.head()"
   ]
  },
  {
   "cell_type": "code",
   "execution_count": 96,
   "metadata": {
    "collapsed": true
   },
   "outputs": [],
   "source": [
    "clf_lda = LogisticRegression()"
   ]
  },
  {
   "cell_type": "code",
   "execution_count": 97,
   "metadata": {},
   "outputs": [],
   "source": [
    "clf_lda = clf_lda.fit(train_lda_features, categories)"
   ]
  },
  {
   "cell_type": "code",
   "execution_count": 98,
   "metadata": {
    "collapsed": true
   },
   "outputs": [],
   "source": [
    "test_lda_features = ret_lda_features(lda_hdp, test_texts, num_topics)"
   ]
  },
  {
   "cell_type": "code",
   "execution_count": 100,
   "metadata": {},
   "outputs": [
    {
     "data": {
      "text/html": [
       "<div>\n",
       "<table border=\"1\" class=\"dataframe\">\n",
       "  <thead>\n",
       "    <tr style=\"text-align: right;\">\n",
       "      <th></th>\n",
       "      <th>0</th>\n",
       "      <th>1</th>\n",
       "      <th>2</th>\n",
       "      <th>3</th>\n",
       "      <th>4</th>\n",
       "      <th>5</th>\n",
       "      <th>6</th>\n",
       "      <th>7</th>\n",
       "      <th>8</th>\n",
       "      <th>9</th>\n",
       "      <th>...</th>\n",
       "      <th>140</th>\n",
       "      <th>141</th>\n",
       "      <th>142</th>\n",
       "      <th>143</th>\n",
       "      <th>144</th>\n",
       "      <th>145</th>\n",
       "      <th>146</th>\n",
       "      <th>147</th>\n",
       "      <th>148</th>\n",
       "      <th>149</th>\n",
       "    </tr>\n",
       "  </thead>\n",
       "  <tbody>\n",
       "    <tr>\n",
       "      <th>0</th>\n",
       "      <td>0.502519</td>\n",
       "      <td>0.119401</td>\n",
       "      <td>0.000000</td>\n",
       "      <td>0.000000</td>\n",
       "      <td>0.100274</td>\n",
       "      <td>0.0</td>\n",
       "      <td>0.259029</td>\n",
       "      <td>0.010630</td>\n",
       "      <td>0.0</td>\n",
       "      <td>0.0</td>\n",
       "      <td>...</td>\n",
       "      <td>0.0</td>\n",
       "      <td>0.0</td>\n",
       "      <td>0.0</td>\n",
       "      <td>0.0</td>\n",
       "      <td>0.0</td>\n",
       "      <td>0.0</td>\n",
       "      <td>0.0</td>\n",
       "      <td>0.0</td>\n",
       "      <td>0.0</td>\n",
       "      <td>0.0</td>\n",
       "    </tr>\n",
       "    <tr>\n",
       "      <th>1</th>\n",
       "      <td>0.000000</td>\n",
       "      <td>0.170813</td>\n",
       "      <td>0.096998</td>\n",
       "      <td>0.000000</td>\n",
       "      <td>0.000000</td>\n",
       "      <td>0.0</td>\n",
       "      <td>0.000000</td>\n",
       "      <td>0.098504</td>\n",
       "      <td>0.0</td>\n",
       "      <td>0.0</td>\n",
       "      <td>...</td>\n",
       "      <td>0.0</td>\n",
       "      <td>0.0</td>\n",
       "      <td>0.0</td>\n",
       "      <td>0.0</td>\n",
       "      <td>0.0</td>\n",
       "      <td>0.0</td>\n",
       "      <td>0.0</td>\n",
       "      <td>0.0</td>\n",
       "      <td>0.0</td>\n",
       "      <td>0.0</td>\n",
       "    </tr>\n",
       "    <tr>\n",
       "      <th>2</th>\n",
       "      <td>0.000000</td>\n",
       "      <td>0.411321</td>\n",
       "      <td>0.028946</td>\n",
       "      <td>0.020228</td>\n",
       "      <td>0.000000</td>\n",
       "      <td>0.0</td>\n",
       "      <td>0.000000</td>\n",
       "      <td>0.000000</td>\n",
       "      <td>0.0</td>\n",
       "      <td>0.0</td>\n",
       "      <td>...</td>\n",
       "      <td>0.0</td>\n",
       "      <td>0.0</td>\n",
       "      <td>0.0</td>\n",
       "      <td>0.0</td>\n",
       "      <td>0.0</td>\n",
       "      <td>0.0</td>\n",
       "      <td>0.0</td>\n",
       "      <td>0.0</td>\n",
       "      <td>0.0</td>\n",
       "      <td>0.0</td>\n",
       "    </tr>\n",
       "    <tr>\n",
       "      <th>3</th>\n",
       "      <td>0.973800</td>\n",
       "      <td>0.000000</td>\n",
       "      <td>0.000000</td>\n",
       "      <td>0.000000</td>\n",
       "      <td>0.000000</td>\n",
       "      <td>0.0</td>\n",
       "      <td>0.000000</td>\n",
       "      <td>0.000000</td>\n",
       "      <td>0.0</td>\n",
       "      <td>0.0</td>\n",
       "      <td>...</td>\n",
       "      <td>0.0</td>\n",
       "      <td>0.0</td>\n",
       "      <td>0.0</td>\n",
       "      <td>0.0</td>\n",
       "      <td>0.0</td>\n",
       "      <td>0.0</td>\n",
       "      <td>0.0</td>\n",
       "      <td>0.0</td>\n",
       "      <td>0.0</td>\n",
       "      <td>0.0</td>\n",
       "    </tr>\n",
       "    <tr>\n",
       "      <th>4</th>\n",
       "      <td>0.050534</td>\n",
       "      <td>0.348616</td>\n",
       "      <td>0.000000</td>\n",
       "      <td>0.000000</td>\n",
       "      <td>0.141288</td>\n",
       "      <td>0.0</td>\n",
       "      <td>0.000000</td>\n",
       "      <td>0.000000</td>\n",
       "      <td>0.0</td>\n",
       "      <td>0.0</td>\n",
       "      <td>...</td>\n",
       "      <td>0.0</td>\n",
       "      <td>0.0</td>\n",
       "      <td>0.0</td>\n",
       "      <td>0.0</td>\n",
       "      <td>0.0</td>\n",
       "      <td>0.0</td>\n",
       "      <td>0.0</td>\n",
       "      <td>0.0</td>\n",
       "      <td>0.0</td>\n",
       "      <td>0.0</td>\n",
       "    </tr>\n",
       "  </tbody>\n",
       "</table>\n",
       "<p>5 rows × 150 columns</p>\n",
       "</div>"
      ],
      "text/plain": [
       "        0         1         2         3         4    5         6         7    \\\n",
       "0  0.502519  0.119401  0.000000  0.000000  0.100274  0.0  0.259029  0.010630   \n",
       "1  0.000000  0.170813  0.096998  0.000000  0.000000  0.0  0.000000  0.098504   \n",
       "2  0.000000  0.411321  0.028946  0.020228  0.000000  0.0  0.000000  0.000000   \n",
       "3  0.973800  0.000000  0.000000  0.000000  0.000000  0.0  0.000000  0.000000   \n",
       "4  0.050534  0.348616  0.000000  0.000000  0.141288  0.0  0.000000  0.000000   \n",
       "\n",
       "   8    9   ...   140  141  142  143  144  145  146  147  148  149  \n",
       "0  0.0  0.0 ...   0.0  0.0  0.0  0.0  0.0  0.0  0.0  0.0  0.0  0.0  \n",
       "1  0.0  0.0 ...   0.0  0.0  0.0  0.0  0.0  0.0  0.0  0.0  0.0  0.0  \n",
       "2  0.0  0.0 ...   0.0  0.0  0.0  0.0  0.0  0.0  0.0  0.0  0.0  0.0  \n",
       "3  0.0  0.0 ...   0.0  0.0  0.0  0.0  0.0  0.0  0.0  0.0  0.0  0.0  \n",
       "4  0.0  0.0 ...   0.0  0.0  0.0  0.0  0.0  0.0  0.0  0.0  0.0  0.0  \n",
       "\n",
       "[5 rows x 150 columns]"
      ]
     },
     "execution_count": 100,
     "metadata": {},
     "output_type": "execute_result"
    }
   ],
   "source": [
    "test_lda_features.head()"
   ]
  },
  {
   "cell_type": "code",
   "execution_count": 101,
   "metadata": {},
   "outputs": [],
   "source": [
    "predictions = clf_lda.predict(test_lda_features)"
   ]
  },
  {
   "cell_type": "code",
   "execution_count": 102,
   "metadata": {},
   "outputs": [
    {
     "name": "stdout",
     "output_type": "stream",
     "text": [
      "accuracy 0.638157894737\n",
      "confusion matrix\n",
      " [[ 8  1  0  1  1  6  0  3]\n",
      " [ 0 18  0  1  0  0  0  2]\n",
      " [ 2  0  6  2  2  1  0  5]\n",
      " [ 0  1  1 15  0  1  0  1]\n",
      " [ 1  3  0  1 11  0  0  3]\n",
      " [ 0  0  1  0  0 18  0  1]\n",
      " [ 0  2  1  0  1  7  5  1]\n",
      " [ 0  0  0  1  0  1  0 16]]\n",
      "(row=expected, col=predicted)\n"
     ]
    },
    {
     "data": {
      "image/png": "[encoded data removed]",
      "text/plain": [
       "<matplotlib.figure.Figure at 0x7f28bb7a1c10>"
      ]
     },
     "metadata": {},
     "output_type": "display_data"
    }
   ],
   "source": [
    "evaluate_prediction(predictions, test['category'])"
   ]
  },
  {
   "cell_type": "markdown",
   "metadata": {},
   "source": [
    "__Exercise__: Plug in our HDP model above instead of LDA model and see what's the difference"
   ]
  },
  {
   "cell_type": "markdown",
   "metadata": {},
   "source": [
    "Turns out, our TF-IDF and bag of words based models outperform this method. However no gensim tutorial is complete without word embeddings. Let's try word embeddings now!"
   ]
  },
  {
   "cell_type": "markdown",
   "metadata": {},
   "source": [
    "# Word2Vec can make your heart skip a gram\n",
    "Well this is not really word2vec. We're just loading pre-trained twitter GloVe vectors. GloVe produces word embeddings in a different way than word2vec. GloVe uses a count-based model to learn word embeddings whereas word2vec tries to learn a \"predictive\" model by using different algorithms such as skip-gram or CBOW.\n",
    "\n",
    "We will be using twitter pre-trained GloVe vectors on twitter. We can convert them into word2vec vectors by just running [this](https://github.com/RaRe-Technologies/gensim/blob/develop/gensim/scripts/glove2word2vec.py) script present in gensim. I have used the 50d vectors however you are free to use the larger embeddings depending on the RAM you have."
   ]
  },
  {
   "cell_type": "code",
   "execution_count": 103,
   "metadata": {
    "collapsed": true
   },
   "outputs": [],
   "source": [
    "import gensim\n",
    "import logging\n",
    "\n",
    "from gensim.models import Word2Vec"
   ]
  },
  {
   "cell_type": "code",
   "execution_count": 104,
   "metadata": {},
   "outputs": [],
   "source": [
    "wv = Word2Vec.load_word2vec_format(\"/home/devashish/Downloads/GloVes/wv.twitter.27B.50d.txt\",\n",
    "                                   binary=False)  # To use C text format\n",
    "wv.init_sims(replace=True)  # To decrease RAM usage"
   ]
  },
  {
   "cell_type": "code",
   "execution_count": 105,
   "metadata": {},
   "outputs": [
    {
     "data": {
      "text/plain": [
       "[(u'chelsea', 0.9786632061004639),\n",
       " (u'liverpool', 0.9681325554847717),\n",
       " (u'utd', 0.9317814707756042),\n",
       " (u'united', 0.9310426712036133),\n",
       " (u'manchester', 0.9226013422012329),\n",
       " (u'tottenham', 0.9214313626289368),\n",
       " (u'everton', 0.919910728931427),\n",
       " (u'barca', 0.9044719934463501),\n",
       " (u'swansea', 0.9019159078598022),\n",
       " (u'qpr', 0.8937806487083435)]"
      ]
     },
     "execution_count": 105,
     "metadata": {},
     "output_type": "execute_result"
    }
   ],
   "source": [
    "wv.most_similar(positive=['arsenal'])"
   ]
  },
  {
   "cell_type": "markdown",
   "metadata": {},
   "source": [
    "### For this task our preprocessing will be different\n",
    "Preprocessing taken from [stanford twitter-preprocessor](http://nlp.stanford.edu/projects/glove/preprocess-twitter.rb)"
   ]
  },
  {
   "cell_type": "code",
   "execution_count": 106,
   "metadata": {
    "collapsed": true
   },
   "outputs": [],
   "source": [
    "import string\n",
    "\n",
    "exclude = string.punctuation\n",
    "exclude = re.sub('<|>', '', exclude)  # To keep our <tags> intact\n",
    "exclude = set(exclude)"
   ]
  },
  {
   "cell_type": "code",
   "execution_count": 107,
   "metadata": {
    "collapsed": true
   },
   "outputs": [],
   "source": [
    "\"\"\"\n",
    "preprocess-twitter.py\n",
    "python preprocess-twitter.py \"Some random text with #hashtags, @mentions and http://t.co/kdjfkdjf (links). :)\"\n",
    "Script for preprocessing tweets by Romain Paulus\n",
    "with small modifications by Jeffrey Pennington\n",
    "with translation to Python by Motoki Wu\n",
    "Translation of Ruby script to create features for GloVe vectors for Twitter data.\n",
    "http://nlp.stanford.edu/projects/glove/preprocess-twitter.rb\n",
    "\"\"\"\n",
    "\n",
    "FLAGS = re.MULTILINE | re.DOTALL\n",
    "\n",
    "def hashtag(text):\n",
    "    text = text.group()\n",
    "    hashtag_body = text[1:]\n",
    "    if hashtag_body.isupper():\n",
    "        result = \"<hashtag> {} <allcaps>\".format(hashtag_body)\n",
    "    else:\n",
    "        result = \" \".join([\"<hashtag>\"] + re.split(r\"(?=[A-Z])\", hashtag_body, flags=FLAGS))\n",
    "    return result\n",
    "\n",
    "def allcaps(text):\n",
    "    text = text.group()\n",
    "    return text.lower() + \" <allcaps> \"\n",
    "\n",
    "\n",
    "def preprocess_tweet(text):\n",
    "    # Different regex parts for smiley faces\n",
    "    eyes = r\"[8:=;]\"\n",
    "    nose = r\"['`\\-]?\"\n",
    "\n",
    "    # function so code less repetitive\n",
    "    def re_sub(pattern, repl):\n",
    "        return re.sub(pattern, repl, text, flags=FLAGS)\n",
    "\n",
    "    text = re_sub(r\"https?:\\/\\/\\S+\\b|www\\.(\\w+\\.)+\\S*\", \"<url>\")\n",
    "    text = re_sub(r\"/\",\" / \")\n",
    "    text = re_sub(r\"@\\w+\", \"<user>\")\n",
    "    text = re_sub(r\"{}{}[)dD]+|[)dD]+{}{}\".format(eyes, nose, nose, eyes), \"<smile>\")\n",
    "    text = re_sub(r\"{}{}p+\".format(eyes, nose), \"<lolface>\")\n",
    "    text = re_sub(r\"{}{}\\(+|\\)+{}{}\".format(eyes, nose, nose, eyes), \"<sadface>\")\n",
    "    text = re_sub(r\"{}{}[\\/|l*]\".format(eyes, nose), \"<neutralface>\")\n",
    "    text = re_sub(r\"<3\",\"<heart>\")\n",
    "    text = re_sub(r\"[-+]?[.\\d]*[\\d]+[:,.\\d]*\", \" <number> \")\n",
    "    text = re_sub(r\"#\\S+\", hashtag)\n",
    "    text = re_sub(r\"([!?.]){2,}\", r\"\\1 <repeat>\")\n",
    "    text = re_sub(r\"\\b(\\S*?)(.)\\2{2,}\\b\", r\"\\1\\2 <elong>\")\n",
    "\n",
    "    ## -- I just don't understand why the Ruby script adds <allcaps> to everything so I limited the selection.\n",
    "    # text = re_sub(r\"([^a-z0-9()<>'`\\-]){2,}\", allcaps)\n",
    "    text = re_sub(r\"([A-Z]){2,}\", allcaps)\n",
    "    \n",
    "    text = ''.join(ch for ch in text if ch not in exclude)  # Remove punctuation\n",
    "\n",
    "    return text.lower()"
   ]
  },
  {
   "cell_type": "code",
   "execution_count": 108,
   "metadata": {
    "collapsed": true
   },
   "outputs": [],
   "source": [
    "def g2v_tokenize_tweet(text):\n",
    "    text = text.encode('ascii', 'ignore')  # Deal with UnicodeDecodeErrors\n",
    "    text = preprocess_tweet(text)\n",
    "    return text.split()"
   ]
  },
  {
   "cell_type": "markdown",
   "metadata": {},
   "source": [
    "# Word Vector Averaging\n",
    "To get a vector for a document, we simply average it's word vectors. As suggested in [this](https://www.youtube.com/watch?v=7gTjYwiaJiU) video by Mike Tamir, the word averaging results to some kind of a unique word summarizing the whole document in one word. Eg all words in a book 'A tale of two cities' would probably add up to 'class-struggle'.\n",
    "<img src='images/word_avg.png'>"
   ]
  },
  {
   "cell_type": "code",
   "execution_count": 109,
   "metadata": {
    "collapsed": true
   },
   "outputs": [],
   "source": [
    "# code from \"Movie plots by genre\" by Lev Konstantinovskiy:\n",
    "# https://github.com/RaRe-Technologies/movie-plots-by-genre\n",
    "def word_averaging(wv, words):\n",
    "    all_words, mean = set(), []\n",
    "    \n",
    "    for word in words:\n",
    "        if isinstance(word, np.ndarray):\n",
    "            mean.append(word)\n",
    "        elif word in wv.vocab:\n",
    "            mean.append(wv.syn0norm[wv.vocab[word].index])\n",
    "            all_words.add(wv.vocab[word].index)\n",
    "\n",
    "    if not mean:\n",
    "        logging.warning(\"cannot compute similarity with no input %s\", words)\n",
    "        # FIXME: remove these examples in pre-processing\n",
    "        return np.zeros(wv.layer_size,)\n",
    "\n",
    "    mean = gensim.matutils.unitvec(np.array(mean).mean(axis=0)).astype(np.float32)\n",
    "    return mean\n",
    "\n",
    "def  word_averaging_list(wv, text_list):\n",
    "    return np.vstack([word_averaging(wv, review) for review in text_list ])"
   ]
  },
  {
   "cell_type": "code",
   "execution_count": 110,
   "metadata": {
    "scrolled": true
   },
   "outputs": [],
   "source": [
    "train_tokenized = train.apply(lambda t: g2v_tokenize_tweet(t['message']), axis=1).values\n",
    "test_tokenized = test.apply(lambda t: g2v_tokenize_tweet(t['message']), axis=1).values"
   ]
  },
  {
   "cell_type": "code",
   "execution_count": 111,
   "metadata": {
    "collapsed": true
   },
   "outputs": [],
   "source": [
    "X_train_word_average = word_averaging_list(wv,train_tokenized)\n",
    "X_test_word_average = word_averaging_list(wv,test_tokenized)"
   ]
  },
  {
   "cell_type": "code",
   "execution_count": 112,
   "metadata": {
    "collapsed": true
   },
   "outputs": [],
   "source": [
    "clf_g2v = LogisticRegression()\n",
    "clf_g2v = clf_g2v.fit(X_train_word_average, train['category'])"
   ]
  },
  {
   "cell_type": "code",
   "execution_count": 113,
   "metadata": {
    "collapsed": true
   },
   "outputs": [],
   "source": [
    "predictions = clf_g2v.predict(X_test_word_average)"
   ]
  },
  {
   "cell_type": "code",
   "execution_count": 114,
   "metadata": {},
   "outputs": [
    {
     "name": "stdout",
     "output_type": "stream",
     "text": [
      "accuracy 0.532894736842\n",
      "confusion matrix\n",
      " [[17  0  0  0  0  3  0  0]\n",
      " [ 2 19  0  0  0  0  0  0]\n",
      " [ 4 13  0  0  0  1  0  0]\n",
      " [ 2  6  0 11  0  0  0  0]\n",
      " [ 3  4  0  0 12  0  0  0]\n",
      " [ 5  1  0  0  0 14  0  0]\n",
      " [ 6  2  0  0  1  0  8  0]\n",
      " [11  3  0  0  0  4  0  0]]\n",
      "(row=expected, col=predicted)\n"
     ]
    },
    {
     "data": {
      "image/png": "[encoded data removed]",
      "text/plain": [
       "<matplotlib.figure.Figure at 0x7f288ce528d0>"
      ]
     },
     "metadata": {},
     "output_type": "display_data"
    }
   ],
   "source": [
    "evaluate_prediction(predictions, test['category'])"
   ]
  },
  {
   "cell_type": "markdown",
   "metadata": {},
   "source": [
    "Turned out to be pretty disappointing :( Probably word averaging doesn't work too well for tweets. This classifies most categories as \"Business and CEOs\" for some reason.\n",
    "\n",
    "__Things to try__: We can tweak our preprocessing here. Probably use our previous preprocessor. Can also use a neural network based MLPClassifier instead of logistic regression."
   ]
  },
  {
   "cell_type": "markdown",
   "metadata": {},
   "source": [
    "# You can use the function below for user classification!"
   ]
  },
  {
   "cell_type": "code",
   "execution_count": 115,
   "metadata": {
    "collapsed": true
   },
   "outputs": [],
   "source": [
    "def get_tweets(handle):\n",
    "    \"\"\"\n",
    "    Function to return user profile.\n",
    "    \n",
    "    Parameters:\n",
    "    ----------\n",
    "    handle: Twitter handle\n",
    "    \n",
    "    Returns:\n",
    "    -------\n",
    "    tweets: space seperated list of tweets\n",
    "    \"\"\"\n",
    "    tweets = api.GetUserTimeline(screen_name=handle, count=200)\n",
    "    tweets = [tweet.text for tweet in tweets]\n",
    "    return ' '.join(tweets)"
   ]
  },
  {
   "cell_type": "code",
   "execution_count": 116,
   "metadata": {
    "collapsed": true
   },
   "outputs": [],
   "source": [
    "def pred_handle(handle, vectorizer=None, clf=None, g2v_or_lda=None):\n",
    "    \"\"\"\n",
    "    Function to classify handle. Vectorizer need not be\n",
    "    provided if g2v_or_lda is being used. g2v_or_lda can be:\n",
    "        'g2v' for classification with glove word averaging\n",
    "        'lda' for classification with LDA inference\n",
    "        'None' for classification with standard preprocessor and vectorizer\n",
    "    \n",
    "    Parameters:\n",
    "    ----------\n",
    "    handle: Twitter handle of user to classify\n",
    "    vectorizer: Vectorizer (pre-trained) to be used\n",
    "    clf: Classifier (pre-trained) to be used\n",
    "    g2v_or_lda: 'g2v', 'lda' or 'None' depending on which \"mode\" you want to use\n",
    "    \n",
    "    Returns:\n",
    "    -------\n",
    "    category: Classified category\n",
    "    \"\"\"\n",
    "    if clf is None:\n",
    "        raise Exception('Classifier has to be provided')\n",
    "    if vectorizer is None and g2v_or_lda is None:\n",
    "        raise Exception('Vectorizer should be provided if glove'\n",
    "                        ' or LDA classification is not being used')\n",
    "    profile = get_tweets(handle)\n",
    "    if g2v_or_lda is None:\n",
    "        profile = preprocess_text(profile)\n",
    "        profile = bigram[profile]\n",
    "        features = vectorizer.transform([' '.join(profile)])\n",
    "    else:\n",
    "        if g2v_or_lda == 'g2v':\n",
    "            profile = g2v_tokenize_tweet(profile)\n",
    "            features = word_averaging_list(wv, profile)\n",
    "        elif g2v_or_lda == 'lda':\n",
    "            features = np.zeros(shape=(1, num_topics))\n",
    "            inference = lda_hdp[dictionary.doc2bow(message)]\n",
    "            for tid, val in inference:\n",
    "                features[:, tid] = val\n",
    "    category = clf.predict(features)\n",
    "    return category"
   ]
  },
  {
   "cell_type": "code",
   "execution_count": 121,
   "metadata": {},
   "outputs": [
    {
     "name": "stdout",
     "output_type": "stream",
     "text": [
      "Sports\n"
     ]
    }
   ],
   "source": [
    "try:\n",
    "    pred = pred_handle('chelseafc', vectorizer=count_vectorizer, clf=clf_count, g2v_or_lda=None)[0]\n",
    "except:\n",
    "    print(\"Please check whether python-twitter is installed. If yes, please check\"\n",
    "          \" whether credentials are stored correctly.\")\n",
    "print categories_map[pred]"
   ]
  },
  {
   "cell_type": "markdown",
   "metadata": {},
   "source": [
    "__Please note that the results for these techniques apply to this particular dataset only__\n",
    "\n",
    "GloVe and word embeddings are a very powerful technique to do complex NLP tasks. Do watch [this](https://www.youtube.com/watch?v=vkfXBGnDplQ) video by Chris Moody to see some of the applications of word2vec outside of text processing.\n",
    "\n",
    "You can try other techniques too such as Doc2Vec, word mover's distance (WMD) etc. for exploring more techniques to working with text data. Do check out [this](https://github.com/RaRe-Technologies/movie-plots-by-genre/blob/master/ipynb_with_output/Document%20classification%20with%20word%20embeddings%20tutorial%20-%20with%20output.ipynb) notebook by Lev Konstantinovskiy."
   ]
  },
  {
   "cell_type": "markdown",
   "metadata": {},
   "source": [
    "# Bibliography\n",
    "Do have a look at the following resources I used for making this tutorial:\n",
    "- [Movie plots by genre by Lev Konstantinovskiy](https://github.com/RaRe-Technologies/movie-plots-by-genre/blob/master/ipynb_with_output/Document%20classification%20with%20word%20embeddings%20tutorial%20-%20with%20output.ipynb)\n",
    "- [Topic coherence pipeline paper by Roeder et al](svn.aksw.org/papers/2015/WSDM_Topic_Evaluation/public.pdf)\n",
    "- [Original LDA paper by Blei et al](https://www.cs.princeton.edu/~blei/papers/BleiNgJordan2003.pdf)\n",
    "- [Online LDA paper by Blei et al](https://www.cs.princeton.edu/~blei/papers/HoffmanBleiBach2010b.pdf)\n",
    "- [Empirical study of topic modeling in Twitter by Davison et al](http://snap.stanford.edu/soma2010/papers/soma2010_12.pdf)\n",
    "- [Machine learning approach to twitter user classification by Pennacchiotti et al](https://www.google.co.in/url?sa=t&rct=j&q=&esrc=s&source=web&cd=1&ved=0ahUKEwjHiN7E8svPAhUKPo8KHaY3CsUQFggiMAA&url=https%3A%2F%2Fwww.aaai.org%2Focs%2Findex.php%2FICWSM%2FICWSM11%2Fpaper%2Fdownload%2F2886%2F3262&usg=AFQjCNE7NxTUl11QpN6GA7qj6_NNK0tjqw&sig2=LXSszb8tQN00sej6yr-I5w)\n",
    "- [Stanford GloVe project](http://nlp.stanford.edu/projects/glove/)"
   ]
  }
 ],
 "metadata": {
  "anaconda-cloud": {},
  "kernelspec": {
   "display_name": "Python 3",
   "language": "python",
   "name": "python3"
  },
  "language_info": {
   "codemirror_mode": {
    "name": "ipython",
    "version": 3
   },
   "file_extension": ".py",
   "mimetype": "text/x-python",
   "name": "python",
   "nbconvert_exporter": "python",
   "pygments_lexer": "ipython3",
   "version": "3.7.4"
  }
 },
 "nbformat": 4,
 "nbformat_minor": 1
}
