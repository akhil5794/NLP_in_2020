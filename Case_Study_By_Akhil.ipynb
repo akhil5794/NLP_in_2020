{
 "cells": [
  {
   "cell_type": "markdown",
   "metadata": {},
   "source": [
    "## Import the required Libraries"
   ]
  },
  {
   "cell_type": "code",
   "execution_count": 1,
   "metadata": {},
   "outputs": [
    {
     "name": "stderr",
     "output_type": "stream",
     "text": [
      "unable to import 'smart_open.gcs', disabling that module\n"
     ]
    }
   ],
   "source": [
    "from nltk.corpus import stopwords\n",
    "from sklearn.datasets import fetch_20newsgroups\n",
    "from sklearn.linear_model import SGDClassifier, LogisticRegression\n",
    "import numpy as np\n",
    "from nltk.corpus import reuters \n",
    "from sklearn.preprocessing import MultiLabelBinarizer\n",
    "from sklearn.feature_extraction.text import CountVectorizer, TfidfTransformer\n",
    "from sklearn.pipeline import Pipeline\n",
    "from sklearn.neighbors import KNeighborsClassifier\n",
    "from sklearn.naive_bayes import MultinomialNB\n",
    "import timeit\n",
    "import matplotlib.pyplot as plt\n",
    "from nltk.tokenize import RegexpTokenizer\n",
    "from nltk.stem.porter import PorterStemmer\n",
    "from gensim import corpora, models\n",
    "import warnings\n",
    "warnings.filterwarnings(action='ignore', category=UserWarning, module='gensim')\n",
    "import gensim\n",
    "from gensim.models import Phrases\n",
    "from gensim.corpora import Dictionary\n",
    "stop_words = set(stopwords.words('english'))\n",
    "p_stemmer = PorterStemmer()\n",
    "tokenizer = RegexpTokenizer(r'\\w+')"
   ]
  },
  {
   "cell_type": "markdown",
   "metadata": {},
   "source": [
    "## Reading the given data"
   ]
  },
  {
   "cell_type": "code",
   "execution_count": 2,
   "metadata": {},
   "outputs": [
    {
     "name": "stderr",
     "output_type": "stream",
     "text": [
      "C:\\ProgramData\\Anaconda3\\lib\\site-packages\\ipykernel_launcher.py:2: ParserWarning: Falling back to the 'python' engine because the 'c' engine does not support regex separators (separators > 1 char and different from '\\s+' are interpreted as regex); you can avoid this warning by specifying engine='python'.\n",
      "  \n"
     ]
    },
    {
     "name": "stdout",
     "output_type": "stream",
     "text": [
      "                                           original_text\n",
      "0      A little throwback with my favourite person @ ...\n",
      "1      glam on @user yesterday for #kcon makeup using...\n",
      "2      Democracy Plaza in the wake of a stunning outc...\n",
      "3       Then &amp; Now. VILO @ Walt Disney Magic Kingdom\n",
      "4                   Who never... @ A Galaxy Far Far Away\n",
      "...                                                  ...\n",
      "49995  My #O2otd Love this chain so much and our new ...\n",
      "49996  Met Santa and Olaf @ the North Pole today @ No...\n",
      "49997  New York by Night Strideby #HERElocationNYC......\n",
      "49998  Kisses for the birthday girl! @ Helzberg Diamonds\n",
      "49999  Dinner with this priceless view!Thank you, S #...\n",
      "\n",
      "[50000 rows x 1 columns]\n"
     ]
    }
   ],
   "source": [
    "import pandas as pd\n",
    "trials_data = pd.read_csv(\"us_trial.text\", sep=\"/t,/n\", header = None)\n",
    "trials_data.columns = ['original_text']\n",
    "print(trials_data)"
   ]
  },
  {
   "cell_type": "code",
   "execution_count": 3,
   "metadata": {},
   "outputs": [],
   "source": [
    "trials_data['labels'] = pd.read_csv(\"us_trial.labels\", sep=\"\\t\", header = None)\n"
   ]
  },
  {
   "cell_type": "markdown",
   "metadata": {},
   "source": [
    "There are 50,000 records and corresponding labels, let's check the number of unique values in the target variable"
   ]
  },
  {
   "cell_type": "markdown",
   "metadata": {},
   "source": [
    "## Check the number of unique values in the target variable"
   ]
  },
  {
   "cell_type": "code",
   "execution_count": 4,
   "metadata": {},
   "outputs": [
    {
     "data": {
      "text/plain": [
       "array([ 0,  7, 11,  2,  1,  8, 13,  9, 16, 19,  4,  6, 14,  5, 10, 15,  3,\n",
       "       12, 17, 18], dtype=int64)"
      ]
     },
     "execution_count": 4,
     "metadata": {},
     "output_type": "execute_result"
    }
   ],
   "source": [
    "trials_data['labels'].unique()"
   ]
  },
  {
   "cell_type": "markdown",
   "metadata": {},
   "source": [
    "There are 20 unique labels, let's check the value count for each label"
   ]
  },
  {
   "cell_type": "code",
   "execution_count": 5,
   "metadata": {},
   "outputs": [
    {
     "data": {
      "text/plain": [
       "0     10760\n",
       "1      5279\n",
       "2      5241\n",
       "3      2885\n",
       "4      2517\n",
       "5      2317\n",
       "6      2049\n",
       "7      1894\n",
       "8      1796\n",
       "9      1671\n",
       "10     1544\n",
       "11     1528\n",
       "12     1462\n",
       "14     1377\n",
       "13     1346\n",
       "16     1306\n",
       "18     1286\n",
       "17     1279\n",
       "15     1249\n",
       "19     1214\n",
       "Name: labels, dtype: int64"
      ]
     },
     "execution_count": 5,
     "metadata": {},
     "output_type": "execute_result"
    }
   ],
   "source": [
    "trials_data['labels'].value_counts()"
   ]
  },
  {
   "cell_type": "code",
   "execution_count": 6,
   "metadata": {},
   "outputs": [
    {
     "data": {
      "text/plain": [
       "<matplotlib.axes._subplots.AxesSubplot at 0x195b1354448>"
      ]
     },
     "execution_count": 6,
     "metadata": {},
     "output_type": "execute_result"
    },
    {
     "data": {
      "image/png": "[encoded data removed]",
      "text/plain": [
       "<Figure size 432x288 with 1 Axes>"
      ]
     },
     "metadata": {
      "needs_background": "light"
     },
     "output_type": "display_data"
    }
   ],
   "source": [
    "trials_data['labels'].value_counts().plot.bar(x='lab', y='val')"
   ]
  },
  {
   "cell_type": "markdown",
   "metadata": {},
   "source": [
    "### Creating training and test sets"
   ]
  },
  {
   "cell_type": "markdown",
   "metadata": {},
   "source": [
    "We'll be using 80% of the tweets (for each profile) for training and 20% for testing, i.e. a 80-20 split as mentioned in [this](http://snap.stanford.edu/soma2010/papers/soma2010_12.pdf) paper by Davison et al. Cross validation can and should be done."
   ]
  },
  {
   "cell_type": "code",
   "execution_count": 7,
   "metadata": {},
   "outputs": [],
   "source": [
    "from sklearn.model_selection import train_test_split\n",
    "\n",
    "train_data, test_data, train_labels, test_labels = train_test_split(trials_data['original_text'], trials_data['labels'],\n",
    "                                                    stratify=trials_data['labels'], \n",
    "                                                    test_size=0.20)"
   ]
  },
  {
   "cell_type": "markdown",
   "metadata": {},
   "source": [
    "## Function to word_transform (convert into lower case, split and remove stop words)"
   ]
  },
  {
   "cell_type": "code",
   "execution_count": 8,
   "metadata": {},
   "outputs": [],
   "source": [
    "def word_transform(doc_set, ldamodel, dictionary,no_topics):\n",
    "    data = []\n",
    "    # loop through document list\n",
    "    for i in doc_set:\n",
    "        doc = ' '.join([word for word in i.split() if word not in stop_words])\n",
    "        doc = doc.lower()\n",
    "        doc = doc.split()\n",
    "        #print(doc_lda)\n",
    "        doc_prob = [0] * no_topics\n",
    "        for j in doc:\n",
    "            if j in stop_words:\n",
    "                continue\n",
    "            word_dist = ldamodel.get_document_topics(dictionary.doc2bow(list(j)))#ldamodel[dictionary.doc2bow(list(j))]\n",
    "            for k in word_dist: \n",
    "                doc_prob[int(k[0])] = doc_prob[int(k[0])] + float(k[1])\n",
    "        data.append(doc_prob )\n",
    "        #print(doc_prob)\n",
    "    return data"
   ]
  },
  {
   "cell_type": "markdown",
   "metadata": {},
   "source": [
    "## Function to topic_transform (convert into lower case, split and remove stop words)"
   ]
  },
  {
   "cell_type": "code",
   "execution_count": 9,
   "metadata": {},
   "outputs": [],
   "source": [
    "def topic_transform(doc_set, ldamodel, dictionary,no_topics):\n",
    "    data = []\n",
    "    # loop through document list\n",
    "    for i in doc_set:\n",
    "        doc = ' '.join([word for word in i.split() if word not in stop_words])\n",
    "        doc = doc.lower()\n",
    "        doc_lda = ldamodel[dictionary.doc2bow(tokenizer.tokenize(doc))]\n",
    "        #print(doc_lda)\n",
    "        doc_prob = [0] * no_topics\n",
    "        for j in doc_lda:\n",
    "            doc_prob[int(j[0])] = float(j[1])\n",
    "        data.append(doc_prob)\n",
    "        #print(doc_prob)\n",
    "    return data"
   ]
  },
  {
   "cell_type": "markdown",
   "metadata": {},
   "source": [
    "## Function to tokenize the document"
   ]
  },
  {
   "cell_type": "code",
   "execution_count": 10,
   "metadata": {},
   "outputs": [],
   "source": [
    "def tokenize(doc_set):\n",
    "    # list for tokenized documents in loop\n",
    "    texts = []\n",
    "    tokenizer = RegexpTokenizer(r'\\w+')\n",
    "    # loop through document list\n",
    "    for i in doc_set:\n",
    "        # clean and tokenize document string\n",
    "        raw = i.lower()\n",
    "        tokens = tokenizer.tokenize(raw)\n",
    "\n",
    "        # remove stop words from tokens\n",
    "        stopped_tokens = [i for i in tokens if not i in stop_words]\n",
    "\n",
    "        # stem tokens\n",
    "        stemmed_tokens = [p_stemmer.stem(i) for i in stopped_tokens]\n",
    "        # add tokens to list\n",
    "        texts.append(stemmed_tokens)\n",
    "    return texts"
   ]
  },
  {
   "cell_type": "markdown",
   "metadata": {},
   "source": [
    "## Code to create corpus from our document"
   ]
  },
  {
   "cell_type": "code",
   "execution_count": 11,
   "metadata": {},
   "outputs": [],
   "source": [
    "def create_corpus(doc_set):\n",
    "    texts = tokenize(doc_set)\n",
    "    # turn our tokenized documents into a id <-> term dictionary\n",
    "    dictionary = corpora.Dictionary(texts)\n",
    "    dictionary.filter_extremes(no_below=10, no_above=0.5)\n",
    "    # convert tokenized documents into a document-term matrix\n",
    "    corpus = [dictionary.doc2bow(text) for text in texts]\n",
    "    return dictionary, corpus"
   ]
  },
  {
   "cell_type": "markdown",
   "metadata": {},
   "source": [
    "## Function to load Glove Data"
   ]
  },
  {
   "cell_type": "code",
   "execution_count": 12,
   "metadata": {},
   "outputs": [],
   "source": [
    "def load_glove_data():\n",
    "    # read the word to vec file\n",
    "    GLOVE_6B_100D_PATH = \"glove.6B.100d.txt\"\n",
    "    dim = 100\n",
    "    glove_small = {}\n",
    "    with open(GLOVE_6B_100D_PATH, \"rb\") as infile:\n",
    "        for line in infile:\n",
    "            parts = line.split()\n",
    "            try:\n",
    "                word = parts[0].decode(\"utf-8\")\n",
    "                x = []\n",
    "                for i in range(len(parts)-1):\n",
    "                    x.append(float(parts[i+1].decode(\"utf-8\")))\n",
    "                glove_small[word] = x\n",
    "            except: \n",
    "                print('')\n",
    "    return glove_small"
   ]
  },
  {
   "cell_type": "markdown",
   "metadata": {},
   "source": [
    "## Function for word2vec Transformation (glove 100d for this use case)"
   ]
  },
  {
   "cell_type": "code",
   "execution_count": 13,
   "metadata": {},
   "outputs": [],
   "source": [
    "def word2vec_transform(dataset, word2vec, dim):\n",
    "    trans_data = []\n",
    "    for doc in dataset:\n",
    "        words = doc.lower().split()\n",
    "        w_length = 1\n",
    "        data = np.zeros(dim)\n",
    "        for i in range(len(words)):\n",
    "            if words[i] in word2vec and words[i] not in stop_words:\n",
    "                data = data + word2vec[words[i]]\n",
    "                w_length = w_length + 1\n",
    "        data = data / float(w_length)\n",
    "        trans_data.append(data)\n",
    "    return trans_data"
   ]
  },
  {
   "cell_type": "raw",
   "metadata": {},
   "source": [
    "def load_data(path):\n",
    "    X, y = [], []\n",
    "    with open(path, \"r\") as infile:\n",
    "        for line in infile:\n",
    "            label, text = line.split(\"\\t\")\n",
    "            # texts are already tokenized, just split on space\n",
    "            # in a real case we would use e.g. spaCy for tokenization\n",
    "            # and maybe remove stopwords etc.\n",
    "            X.append(text)\n",
    "            y.append(label)\n",
    "    return X, np.array(y)"
   ]
  },
  {
   "cell_type": "markdown",
   "metadata": {},
   "source": [
    "## Try different models on Count Vectorized Train data"
   ]
  },
  {
   "cell_type": "code",
   "execution_count": 14,
   "metadata": {},
   "outputs": [],
   "source": [
    "def tf_classify(train_docs, train_labels, test_docs, test_labels):\n",
    "    text_clf = Pipeline([('vect', CountVectorizer()), ('clf',LogisticRegression()) ])\n",
    "    text_clf.fit(train_docs, train_labels) \n",
    "    predicted = text_clf.predict(test_docs)\n",
    "    print(\"tf_LogisticReg    \" + str(100 * np.mean(predicted == test_labels)))\n",
    "    \n",
    "    text_clf = Pipeline([('vect', CountVectorizer()), ('clf',MultinomialNB()) ])\n",
    "    text_clf.fit(train_docs, train_labels) \n",
    "    predicted = text_clf.predict(test_docs)\n",
    "    print(\"tf_MultiNaiveBayes    \" + str(100 * np.mean(predicted == test_labels)))\n",
    "    \n",
    "    text_clf = Pipeline([('vect', CountVectorizer()), ('clf',KNeighborsClassifier(n_neighbors=3)) ])\n",
    "    text_clf.fit(train_docs, train_labels) \n",
    "    predicted = text_clf.predict(test_docs)\n",
    "    print(\"tf_KNN    \" + str(100 * np.mean(predicted == test_labels)))\n",
    "    \n",
    "    text_clf = Pipeline([('vect', CountVectorizer()), ('clf', SGDClassifier(random_state=42, tol=.001)), ])\n",
    "    text_clf.fit(train_docs, train_labels) \n",
    "    predicted = text_clf.predict(test_docs)\n",
    "    print(\"tf_sgd    \" + str(100 * np.mean(predicted == test_labels)))"
   ]
  },
  {
   "cell_type": "markdown",
   "metadata": {},
   "source": [
    "## Try different models on TFIDF Train data"
   ]
  },
  {
   "cell_type": "code",
   "execution_count": 15,
   "metadata": {},
   "outputs": [],
   "source": [
    "def tf_idf_classify(train_docs, train_labels, test_docs, test_labels):\n",
    "    text_clf = Pipeline([('vect', CountVectorizer()), ('tfidf', TfidfTransformer()), ('clf',LogisticRegression()) ])\n",
    "    text_clf.fit(train_docs, train_labels) \n",
    "    predicted = text_clf.predict(test_docs)\n",
    "    print(\"tf_idf_LogisticReg    \" + str(100 * np.mean(predicted == test_labels)) )\n",
    "    \n",
    "    text_clf = Pipeline([('vect', CountVectorizer()), ('tfidf', TfidfTransformer()), ('clf',MultinomialNB()) ])\n",
    "    text_clf.fit(train_docs, train_labels) \n",
    "    predicted = text_clf.predict(test_docs)\n",
    "    print(\"tf_idf_MultiNaiveBayes    \" + str(100 * np.mean(predicted == test_labels)) )\n",
    "    \n",
    "    text_clf = Pipeline([('vect', CountVectorizer()), ('tfidf', TfidfTransformer()), ('clf',KNeighborsClassifier(n_neighbors=3)) ])\n",
    "    text_clf.fit(train_docs, train_labels) \n",
    "    predicted = text_clf.predict(test_docs)\n",
    "    print(\"tf_idf_KNN    \" + str(100 * np.mean(predicted == test_labels)) )\n",
    "    \n",
    "    text_clf = Pipeline([('vect', CountVectorizer()), ('tfidf', TfidfTransformer()), ('clf', SGDClassifier(random_state=42, tol=.001)), ])\n",
    "    text_clf.fit(train_docs, train_labels) \n",
    "    predicted = text_clf.predict(test_docs)\n",
    "    print(\"tf_idf_sgd    \" + str(100 * np.mean(predicted == test_labels))  )"
   ]
  },
  {
   "cell_type": "markdown",
   "metadata": {},
   "source": [
    "## Try different models on Glove Transformed Train data"
   ]
  },
  {
   "cell_type": "code",
   "execution_count": 16,
   "metadata": {},
   "outputs": [],
   "source": [
    "def word2vec_classify(train_docs, train_labels, test_docs, test_labels):\n",
    "    word2vec = load_glove_data()\n",
    "    train_docs = word2vec_transform(train_docs, word2vec, 100)\n",
    "    test_docs = word2vec_transform(test_docs, word2vec, 100)\n",
    "    \n",
    "    text_clf = LogisticRegression()\n",
    "    text_clf.fit(train_docs, train_labels) \n",
    "    predicted = text_clf.predict(test_docs)\n",
    "    print(\"word2vec_tf_LogisticReg    \" + str(100 * np.mean(predicted == test_labels)))\n",
    "    \n",
    "    #text_clf = MultinomialNB()\n",
    "    #text_clf.fit(train_docs, train_labels) \n",
    "    #predicted = text_clf.predict(test_docs)\n",
    "    #print(\"word2vec_tf_MultiNaiveBayes    \" + str(100 * np.mean(predicted == test_labels)))\n",
    "    \n",
    "    text_clf = KNeighborsClassifier(n_neighbors=3)\n",
    "    text_clf.fit(train_docs, train_labels) \n",
    "    predicted = text_clf.predict(test_docs)\n",
    "    print(\"word2vec_KNN    \" + str(100 * np.mean(predicted == test_labels)))\n",
    "    \n",
    "    sgd = SGDClassifier(random_state=420, tol=.001)#MultinomialNB()\n",
    "    sgd.fit(train_docs, train_labels)  \n",
    "    predicted = sgd.predict(test_docs)\n",
    "    print(\"word2vec_sgd    \" + str(100 * np.mean(predicted == test_labels))  )"
   ]
  },
  {
   "cell_type": "markdown",
   "metadata": {},
   "source": [
    "## Try different models on Glove Transformed and LDA"
   ]
  },
  {
   "cell_type": "code",
   "execution_count": 17,
   "metadata": {},
   "outputs": [],
   "source": [
    "def LDA_classify(train_docs, train_labels, test_docs, test_labels):\n",
    "    text_clf = LogisticRegression()\n",
    "    text_clf.fit(train_docs, train_labels) \n",
    "    predicted = text_clf.predict(test_docs)\n",
    "    Log_accu = 100 * np.mean(predicted == test_labels)\n",
    "    print(\"LDA_LogisticReg \" + str(Log_accu))\n",
    "    \n",
    "    #text_clf = MultinomialNB()\n",
    "    #text_clf.fit(train_docs, train_labels) \n",
    "    #predicted = text_clf.predict(test_docs)\n",
    "    #NB_accu = 100 * np.mean(predicted == test_labels)\n",
    "    #print(\"LDA_MultiNB     \" + NB_accu)\n",
    "    \n",
    "    text_clf = KNeighborsClassifier(n_neighbors=3)\n",
    "    text_clf.fit(train_docs, train_labels) \n",
    "    predicted = text_clf.predict(test_docs)\n",
    "    KNN_accu = 100 * np.mean(predicted == test_labels)\n",
    "    print(\"LDA_KNN     \" + str(KNN_accu))\n",
    "    \n",
    "    sgd = SGDClassifier(random_state=420, tol=.001)#MultinomialNB()\n",
    "    sgd.fit(train_docs, train_labels)  \n",
    "    predicted = sgd.predict(test_docs)\n",
    "    sgd_accu = 100 * np.mean(predicted == test_labels)\n",
    "    print(\"LDA_sgd     \" + str(sgd_accu))\n",
    "    return Log_accu,KNN_accu,sgd_accu"
   ]
  },
  {
   "cell_type": "markdown",
   "metadata": {},
   "source": [
    "## Build your models on train data and test and test data"
   ]
  },
  {
   "cell_type": "code",
   "execution_count": 18,
   "metadata": {},
   "outputs": [
    {
     "name": "stderr",
     "output_type": "stream",
     "text": [
      "C:\\ProgramData\\Anaconda3\\lib\\site-packages\\sklearn\\linear_model\\_logistic.py:939: ConvergenceWarning: lbfgs failed to converge (status=1):\n",
      "STOP: TOTAL NO. of ITERATIONS REACHED LIMIT.\n",
      "\n",
      "Increase the number of iterations (max_iter) or scale the data as shown in:\n",
      "    https://scikit-learn.org/stable/modules/preprocessing.html.\n",
      "Please also refer to the documentation for alternative solver options:\n",
      "    https://scikit-learn.org/stable/modules/linear_model.html#logistic-regression\n",
      "  extra_warning_msg=_LOGISTIC_SOLVER_CONVERGENCE_MSG)\n"
     ]
    },
    {
     "name": "stdout",
     "output_type": "stream",
     "text": [
      "tf_LogisticReg    28.98\n",
      "tf_MultiNaiveBayes    26.83\n",
      "tf_KNN    18.85\n",
      "tf_sgd    28.09\n"
     ]
    },
    {
     "name": "stderr",
     "output_type": "stream",
     "text": [
      "C:\\ProgramData\\Anaconda3\\lib\\site-packages\\sklearn\\linear_model\\_logistic.py:939: ConvergenceWarning: lbfgs failed to converge (status=1):\n",
      "STOP: TOTAL NO. of ITERATIONS REACHED LIMIT.\n",
      "\n",
      "Increase the number of iterations (max_iter) or scale the data as shown in:\n",
      "    https://scikit-learn.org/stable/modules/preprocessing.html.\n",
      "Please also refer to the documentation for alternative solver options:\n",
      "    https://scikit-learn.org/stable/modules/linear_model.html#logistic-regression\n",
      "  extra_warning_msg=_LOGISTIC_SOLVER_CONVERGENCE_MSG)\n"
     ]
    },
    {
     "name": "stdout",
     "output_type": "stream",
     "text": [
      "tf_idf_LogisticReg    30.89\n",
      "tf_idf_MultiNaiveBayes    23.14\n",
      "tf_idf_KNN    20.1\n",
      "tf_idf_sgd    28.050000000000004\n"
     ]
    },
    {
     "name": "stderr",
     "output_type": "stream",
     "text": [
      "C:\\ProgramData\\Anaconda3\\lib\\site-packages\\sklearn\\linear_model\\_logistic.py:939: ConvergenceWarning: lbfgs failed to converge (status=1):\n",
      "STOP: TOTAL NO. of ITERATIONS REACHED LIMIT.\n",
      "\n",
      "Increase the number of iterations (max_iter) or scale the data as shown in:\n",
      "    https://scikit-learn.org/stable/modules/preprocessing.html.\n",
      "Please also refer to the documentation for alternative solver options:\n",
      "    https://scikit-learn.org/stable/modules/linear_model.html#logistic-regression\n",
      "  extra_warning_msg=_LOGISTIC_SOLVER_CONVERGENCE_MSG)\n"
     ]
    },
    {
     "name": "stdout",
     "output_type": "stream",
     "text": [
      "word2vec_tf_LogisticReg    27.26\n",
      "word2vec_KNN    20.11\n",
      "word2vec_sgd    16.57\n"
     ]
    }
   ],
   "source": [
    "tf_classify(train_data, train_labels, test_data, test_labels)\n",
    "tf_idf_classify(train_data, train_labels, test_data, test_labels)\n",
    "word2vec_classify(train_data, train_labels, test_data, test_labels)"
   ]
  },
  {
   "cell_type": "code",
   "execution_count": 19,
   "metadata": {},
   "outputs": [],
   "source": [
    "no_topics = [5, 10, 15, 20, 25, 30, 35, 40]\n",
    "dictionary, corpus = create_corpus(str(train_data) + str(test_data))\n",
    "time = np.zeros(len(no_topics))\n",
    "\n",
    "topics_accu_Log = np.zeros(len(no_topics))\n",
    "#topics_accu_MNB = np.zeros(len(no_topics))\n",
    "topics_accu_KNN = np.zeros(len(no_topics))\n",
    "topics_accu_sgd = np.zeros(len(no_topics))\n",
    "\n",
    "words_accu_Log = np.zeros(len(no_topics))\n",
    "#words_accu_MNB = np.zeros(len(no_topics))\n",
    "words_accu_KNN = np.zeros(len(no_topics))\n",
    "words_accu_sgd = np.zeros(len(no_topics))"
   ]
  },
  {
   "cell_type": "code",
   "execution_count": 20,
   "metadata": {},
   "outputs": [
    {
     "name": "stdout",
     "output_type": "stream",
     "text": [
      "24.88611739999999\n",
      "LDA_LogisticReg 21.52\n",
      "LDA_KNN     21.02\n",
      "LDA_sgd     21.060000000000002\n"
     ]
    },
    {
     "name": "stderr",
     "output_type": "stream",
     "text": [
      "C:\\ProgramData\\Anaconda3\\lib\\site-packages\\sklearn\\linear_model\\_logistic.py:939: ConvergenceWarning: lbfgs failed to converge (status=1):\n",
      "STOP: TOTAL NO. of ITERATIONS REACHED LIMIT.\n",
      "\n",
      "Increase the number of iterations (max_iter) or scale the data as shown in:\n",
      "    https://scikit-learn.org/stable/modules/preprocessing.html.\n",
      "Please also refer to the documentation for alternative solver options:\n",
      "    https://scikit-learn.org/stable/modules/linear_model.html#logistic-regression\n",
      "  extra_warning_msg=_LOGISTIC_SOLVER_CONVERGENCE_MSG)\n"
     ]
    },
    {
     "name": "stdout",
     "output_type": "stream",
     "text": [
      "LDA_LogisticReg 21.51\n",
      "LDA_KNN     15.329999999999998\n",
      "LDA_sgd     5.7299999999999995\n",
      "24.13413509999998\n"
     ]
    },
    {
     "name": "stderr",
     "output_type": "stream",
     "text": [
      "C:\\ProgramData\\Anaconda3\\lib\\site-packages\\sklearn\\linear_model\\_logistic.py:939: ConvergenceWarning: lbfgs failed to converge (status=1):\n",
      "STOP: TOTAL NO. of ITERATIONS REACHED LIMIT.\n",
      "\n",
      "Increase the number of iterations (max_iter) or scale the data as shown in:\n",
      "    https://scikit-learn.org/stable/modules/preprocessing.html.\n",
      "Please also refer to the documentation for alternative solver options:\n",
      "    https://scikit-learn.org/stable/modules/linear_model.html#logistic-regression\n",
      "  extra_warning_msg=_LOGISTIC_SOLVER_CONVERGENCE_MSG)\n"
     ]
    },
    {
     "name": "stdout",
     "output_type": "stream",
     "text": [
      "LDA_LogisticReg 21.52\n",
      "LDA_KNN     10.79\n",
      "LDA_sgd     3.1199999999999997\n"
     ]
    },
    {
     "name": "stderr",
     "output_type": "stream",
     "text": [
      "C:\\ProgramData\\Anaconda3\\lib\\site-packages\\sklearn\\linear_model\\_logistic.py:939: ConvergenceWarning: lbfgs failed to converge (status=1):\n",
      "STOP: TOTAL NO. of ITERATIONS REACHED LIMIT.\n",
      "\n",
      "Increase the number of iterations (max_iter) or scale the data as shown in:\n",
      "    https://scikit-learn.org/stable/modules/preprocessing.html.\n",
      "Please also refer to the documentation for alternative solver options:\n",
      "    https://scikit-learn.org/stable/modules/linear_model.html#logistic-regression\n",
      "  extra_warning_msg=_LOGISTIC_SOLVER_CONVERGENCE_MSG)\n"
     ]
    },
    {
     "name": "stdout",
     "output_type": "stream",
     "text": [
      "LDA_LogisticReg 21.37\n",
      "LDA_KNN     15.229999999999999\n",
      "LDA_sgd     21.54\n",
      "26.06492359999993\n"
     ]
    },
    {
     "name": "stderr",
     "output_type": "stream",
     "text": [
      "C:\\ProgramData\\Anaconda3\\lib\\site-packages\\sklearn\\linear_model\\_logistic.py:939: ConvergenceWarning: lbfgs failed to converge (status=1):\n",
      "STOP: TOTAL NO. of ITERATIONS REACHED LIMIT.\n",
      "\n",
      "Increase the number of iterations (max_iter) or scale the data as shown in:\n",
      "    https://scikit-learn.org/stable/modules/preprocessing.html.\n",
      "Please also refer to the documentation for alternative solver options:\n",
      "    https://scikit-learn.org/stable/modules/linear_model.html#logistic-regression\n",
      "  extra_warning_msg=_LOGISTIC_SOLVER_CONVERGENCE_MSG)\n"
     ]
    },
    {
     "name": "stdout",
     "output_type": "stream",
     "text": [
      "LDA_LogisticReg 21.52\n",
      "LDA_KNN     21.08\n",
      "LDA_sgd     2.6\n"
     ]
    },
    {
     "name": "stderr",
     "output_type": "stream",
     "text": [
      "C:\\ProgramData\\Anaconda3\\lib\\site-packages\\sklearn\\linear_model\\_logistic.py:939: ConvergenceWarning: lbfgs failed to converge (status=1):\n",
      "STOP: TOTAL NO. of ITERATIONS REACHED LIMIT.\n",
      "\n",
      "Increase the number of iterations (max_iter) or scale the data as shown in:\n",
      "    https://scikit-learn.org/stable/modules/preprocessing.html.\n",
      "Please also refer to the documentation for alternative solver options:\n",
      "    https://scikit-learn.org/stable/modules/linear_model.html#logistic-regression\n",
      "  extra_warning_msg=_LOGISTIC_SOLVER_CONVERGENCE_MSG)\n"
     ]
    },
    {
     "name": "stdout",
     "output_type": "stream",
     "text": [
      "LDA_LogisticReg 21.5\n",
      "LDA_KNN     15.45\n",
      "LDA_sgd     9.92\n",
      "29.158257100000128\n"
     ]
    },
    {
     "name": "stderr",
     "output_type": "stream",
     "text": [
      "C:\\ProgramData\\Anaconda3\\lib\\site-packages\\sklearn\\linear_model\\_logistic.py:939: ConvergenceWarning: lbfgs failed to converge (status=1):\n",
      "STOP: TOTAL NO. of ITERATIONS REACHED LIMIT.\n",
      "\n",
      "Increase the number of iterations (max_iter) or scale the data as shown in:\n",
      "    https://scikit-learn.org/stable/modules/preprocessing.html.\n",
      "Please also refer to the documentation for alternative solver options:\n",
      "    https://scikit-learn.org/stable/modules/linear_model.html#logistic-regression\n",
      "  extra_warning_msg=_LOGISTIC_SOLVER_CONVERGENCE_MSG)\n"
     ]
    },
    {
     "name": "stdout",
     "output_type": "stream",
     "text": [
      "LDA_LogisticReg 21.52\n",
      "LDA_KNN     21.15\n",
      "LDA_sgd     2.8000000000000003\n"
     ]
    },
    {
     "name": "stderr",
     "output_type": "stream",
     "text": [
      "C:\\ProgramData\\Anaconda3\\lib\\site-packages\\sklearn\\linear_model\\_logistic.py:939: ConvergenceWarning: lbfgs failed to converge (status=1):\n",
      "STOP: TOTAL NO. of ITERATIONS REACHED LIMIT.\n",
      "\n",
      "Increase the number of iterations (max_iter) or scale the data as shown in:\n",
      "    https://scikit-learn.org/stable/modules/preprocessing.html.\n",
      "Please also refer to the documentation for alternative solver options:\n",
      "    https://scikit-learn.org/stable/modules/linear_model.html#logistic-regression\n",
      "  extra_warning_msg=_LOGISTIC_SOLVER_CONVERGENCE_MSG)\n"
     ]
    },
    {
     "name": "stdout",
     "output_type": "stream",
     "text": [
      "LDA_LogisticReg 21.34\n",
      "LDA_KNN     15.39\n",
      "LDA_sgd     8.83\n",
      "27.872921099999985\n"
     ]
    },
    {
     "name": "stderr",
     "output_type": "stream",
     "text": [
      "C:\\ProgramData\\Anaconda3\\lib\\site-packages\\sklearn\\linear_model\\_logistic.py:939: ConvergenceWarning: lbfgs failed to converge (status=1):\n",
      "STOP: TOTAL NO. of ITERATIONS REACHED LIMIT.\n",
      "\n",
      "Increase the number of iterations (max_iter) or scale the data as shown in:\n",
      "    https://scikit-learn.org/stable/modules/preprocessing.html.\n",
      "Please also refer to the documentation for alternative solver options:\n",
      "    https://scikit-learn.org/stable/modules/linear_model.html#logistic-regression\n",
      "  extra_warning_msg=_LOGISTIC_SOLVER_CONVERGENCE_MSG)\n"
     ]
    },
    {
     "name": "stdout",
     "output_type": "stream",
     "text": [
      "LDA_LogisticReg 21.52\n",
      "LDA_KNN     20.87\n",
      "LDA_sgd     2.83\n"
     ]
    },
    {
     "name": "stderr",
     "output_type": "stream",
     "text": [
      "C:\\ProgramData\\Anaconda3\\lib\\site-packages\\sklearn\\linear_model\\_logistic.py:939: ConvergenceWarning: lbfgs failed to converge (status=1):\n",
      "STOP: TOTAL NO. of ITERATIONS REACHED LIMIT.\n",
      "\n",
      "Increase the number of iterations (max_iter) or scale the data as shown in:\n",
      "    https://scikit-learn.org/stable/modules/preprocessing.html.\n",
      "Please also refer to the documentation for alternative solver options:\n",
      "    https://scikit-learn.org/stable/modules/linear_model.html#logistic-regression\n",
      "  extra_warning_msg=_LOGISTIC_SOLVER_CONVERGENCE_MSG)\n"
     ]
    },
    {
     "name": "stdout",
     "output_type": "stream",
     "text": [
      "LDA_LogisticReg 21.43\n",
      "LDA_KNN     15.129999999999999\n",
      "LDA_sgd     14.66\n",
      "30.935923800000182\n"
     ]
    },
    {
     "name": "stderr",
     "output_type": "stream",
     "text": [
      "C:\\ProgramData\\Anaconda3\\lib\\site-packages\\sklearn\\linear_model\\_logistic.py:939: ConvergenceWarning: lbfgs failed to converge (status=1):\n",
      "STOP: TOTAL NO. of ITERATIONS REACHED LIMIT.\n",
      "\n",
      "Increase the number of iterations (max_iter) or scale the data as shown in:\n",
      "    https://scikit-learn.org/stable/modules/preprocessing.html.\n",
      "Please also refer to the documentation for alternative solver options:\n",
      "    https://scikit-learn.org/stable/modules/linear_model.html#logistic-regression\n",
      "  extra_warning_msg=_LOGISTIC_SOLVER_CONVERGENCE_MSG)\n"
     ]
    },
    {
     "name": "stdout",
     "output_type": "stream",
     "text": [
      "LDA_LogisticReg 21.52\n",
      "LDA_KNN     20.830000000000002\n",
      "LDA_sgd     2.68\n"
     ]
    },
    {
     "name": "stderr",
     "output_type": "stream",
     "text": [
      "C:\\ProgramData\\Anaconda3\\lib\\site-packages\\sklearn\\linear_model\\_logistic.py:939: ConvergenceWarning: lbfgs failed to converge (status=1):\n",
      "STOP: TOTAL NO. of ITERATIONS REACHED LIMIT.\n",
      "\n",
      "Increase the number of iterations (max_iter) or scale the data as shown in:\n",
      "    https://scikit-learn.org/stable/modules/preprocessing.html.\n",
      "Please also refer to the documentation for alternative solver options:\n",
      "    https://scikit-learn.org/stable/modules/linear_model.html#logistic-regression\n",
      "  extra_warning_msg=_LOGISTIC_SOLVER_CONVERGENCE_MSG)\n"
     ]
    },
    {
     "name": "stdout",
     "output_type": "stream",
     "text": [
      "LDA_LogisticReg 21.37\n",
      "LDA_KNN     15.57\n",
      "LDA_sgd     13.87\n",
      "33.42821779999986\n"
     ]
    },
    {
     "name": "stderr",
     "output_type": "stream",
     "text": [
      "C:\\ProgramData\\Anaconda3\\lib\\site-packages\\sklearn\\linear_model\\_logistic.py:939: ConvergenceWarning: lbfgs failed to converge (status=1):\n",
      "STOP: TOTAL NO. of ITERATIONS REACHED LIMIT.\n",
      "\n",
      "Increase the number of iterations (max_iter) or scale the data as shown in:\n",
      "    https://scikit-learn.org/stable/modules/preprocessing.html.\n",
      "Please also refer to the documentation for alternative solver options:\n",
      "    https://scikit-learn.org/stable/modules/linear_model.html#logistic-regression\n",
      "  extra_warning_msg=_LOGISTIC_SOLVER_CONVERGENCE_MSG)\n"
     ]
    },
    {
     "name": "stdout",
     "output_type": "stream",
     "text": [
      "LDA_LogisticReg 21.529999999999998\n",
      "LDA_KNN     20.95\n",
      "LDA_sgd     2.6599999999999997\n"
     ]
    },
    {
     "name": "stderr",
     "output_type": "stream",
     "text": [
      "C:\\ProgramData\\Anaconda3\\lib\\site-packages\\sklearn\\linear_model\\_logistic.py:939: ConvergenceWarning: lbfgs failed to converge (status=1):\n",
      "STOP: TOTAL NO. of ITERATIONS REACHED LIMIT.\n",
      "\n",
      "Increase the number of iterations (max_iter) or scale the data as shown in:\n",
      "    https://scikit-learn.org/stable/modules/preprocessing.html.\n",
      "Please also refer to the documentation for alternative solver options:\n",
      "    https://scikit-learn.org/stable/modules/linear_model.html#logistic-regression\n",
      "  extra_warning_msg=_LOGISTIC_SOLVER_CONVERGENCE_MSG)\n"
     ]
    },
    {
     "name": "stdout",
     "output_type": "stream",
     "text": [
      "LDA_LogisticReg 21.4\n",
      "LDA_KNN     15.76\n",
      "LDA_sgd     14.01\n",
      "8.828369100000145\n"
     ]
    },
    {
     "name": "stderr",
     "output_type": "stream",
     "text": [
      "C:\\ProgramData\\Anaconda3\\lib\\site-packages\\sklearn\\linear_model\\_logistic.py:939: ConvergenceWarning: lbfgs failed to converge (status=1):\n",
      "STOP: TOTAL NO. of ITERATIONS REACHED LIMIT.\n",
      "\n",
      "Increase the number of iterations (max_iter) or scale the data as shown in:\n",
      "    https://scikit-learn.org/stable/modules/preprocessing.html.\n",
      "Please also refer to the documentation for alternative solver options:\n",
      "    https://scikit-learn.org/stable/modules/linear_model.html#logistic-regression\n",
      "  extra_warning_msg=_LOGISTIC_SOLVER_CONVERGENCE_MSG)\n"
     ]
    },
    {
     "name": "stdout",
     "output_type": "stream",
     "text": [
      "LDA_LogisticReg 21.529999999999998\n",
      "LDA_KNN     4.12\n",
      "LDA_sgd     2.77\n"
     ]
    },
    {
     "name": "stderr",
     "output_type": "stream",
     "text": [
      "C:\\ProgramData\\Anaconda3\\lib\\site-packages\\sklearn\\linear_model\\_logistic.py:939: ConvergenceWarning: lbfgs failed to converge (status=1):\n",
      "STOP: TOTAL NO. of ITERATIONS REACHED LIMIT.\n",
      "\n",
      "Increase the number of iterations (max_iter) or scale the data as shown in:\n",
      "    https://scikit-learn.org/stable/modules/preprocessing.html.\n",
      "Please also refer to the documentation for alternative solver options:\n",
      "    https://scikit-learn.org/stable/modules/linear_model.html#logistic-regression\n",
      "  extra_warning_msg=_LOGISTIC_SOLVER_CONVERGENCE_MSG)\n"
     ]
    },
    {
     "name": "stdout",
     "output_type": "stream",
     "text": [
      "LDA_LogisticReg 21.42\n",
      "LDA_KNN     15.310000000000002\n",
      "LDA_sgd     11.27\n"
     ]
    }
   ],
   "source": [
    "for i in range(len(no_topics)):\n",
    "    # train LDA model\n",
    "    start = timeit.default_timer()\n",
    "    ldamodel = gensim.models.ldamodel.LdaModel(corpus, num_topics=no_topics[i], id2word = dictionary, passes=30)\n",
    "    end = timeit.default_timer()\n",
    "    time[i] = end - start\n",
    "    print(time[i])\n",
    "    \n",
    "    # get data represented as a distribution over the topics\n",
    "    test_docs = topic_transform(test_data, ldamodel, dictionary,no_topics[i])\n",
    "    train_docs = topic_transform(train_data, ldamodel, dictionary,no_topics[i])\n",
    "    topics_accu_Log[i], topics_accu_KNN[i], topics_accu_sgd[i] =  LDA_classify(train_docs, train_labels, test_docs, test_labels)\n",
    "    \n",
    "    test_docs = word_transform(test_data, ldamodel, dictionary,no_topics[i])\n",
    "    train_docs = word_transform(train_data, ldamodel, dictionary,no_topics[i])\n",
    "    words_accu_Log[i], words_accu_KNN[i], words_accu_sgd[i] =  LDA_classify(train_docs, train_labels, test_docs, test_labels)"
   ]
  },
  {
   "cell_type": "code",
   "execution_count": 21,
   "metadata": {},
   "outputs": [
    {
     "data": {
      "image/png": "[encoded data removed]",
      "text/plain": [
       "<Figure size 432x288 with 1 Axes>"
      ]
     },
     "metadata": {
      "needs_background": "light"
     },
     "output_type": "display_data"
    },
    {
     "data": {
      "image/png": "[encoded data removed]",
      "text/plain": [
       "<Figure size 432x288 with 1 Axes>"
      ]
     },
     "metadata": {
      "needs_background": "light"
     },
     "output_type": "display_data"
    }
   ],
   "source": [
    "plt.figure(1)\n",
    "plt.plot(no_topics, time)\n",
    "plt.xlabel('Number of Topics')\n",
    "plt.ylabel('Time')\n",
    "\n",
    "plt.figure(2)\n",
    "plt.plot(no_topics, topics_accu_KNN)\n",
    "plt.plot(no_topics, topics_accu_sgd)\n",
    "plt.plot(no_topics, words_accu_KNN)\n",
    "plt.plot(no_topics, words_accu_sgd)\n",
    "plt.xlabel('Number of Topics')\n",
    "plt.ylabel('Accuracy')\n",
    "plt.legend(['Logistic_topics','KNN_topics', 'sgd_topics', 'Logistic_words', 'KNN_words', 'sgd_words'], loc='upper left')\n",
    "plt.show()"
   ]
  },
  {
   "cell_type": "markdown",
   "metadata": {},
   "source": [
    "#### Using Logistic Regression, we are able to achieve 21.5% accuracy, the ideal number of topics seem to be 15-35"
   ]
  },
  {
   "cell_type": "markdown",
   "metadata": {},
   "source": [
    "## Let us build Neural Network Models to improve our accuracy\n",
    "\n",
    "Let us build these 3 ML models on TF, TFIDF and word2vec train data"
   ]
  },
  {
   "cell_type": "code",
   "execution_count": null,
   "metadata": {},
   "outputs": [],
   "source": [
    "# Import the required libraries \n",
    "from sklearn.multiclass import OneVsRestClassifier\n",
    "from sklearn.preprocessing import LabelEncoder\n",
    "from keras.models import Sequential\n",
    "from keras.layers import Dense, Dropout\n",
    "from keras.wrappers.scikit_learn import KerasClassifier\n",
    "from keras.utils import np_utils\n",
    "import pandas as pd\n",
    "import json\n",
    "\n",
    "\n",
    "# Feature Engineering \n",
    "print (\"CountVectorizer on text data ... \")\n",
    "tfidf = CountVectorizer(max_features=3010)\n",
    "X = tfidf.fit_transform(train_data).astype('float32')\n",
    "X_test = tfidf.transform(test_data).astype('float32')\n",
    "\n",
    "# Label Encoding - Target \n",
    "print (\"Label Encode the Target Variable ... \")\n",
    "lb = LabelEncoder()\n",
    "y = lb.fit_transform(train_labels)\n",
    "dummy_y_train = np_utils.to_categorical(y)"
   ]
  },
  {
   "cell_type": "code",
   "execution_count": 128,
   "metadata": {},
   "outputs": [
    {
     "name": "stdout",
     "output_type": "stream",
     "text": [
      "TF-IDF on text data ... \n",
      "Label Encode the Target Variable ... \n",
      "Create model ... \n",
      "Compile model ...\n",
      "Model: \"sequential_31\"\n",
      "_________________________________________________________________\n",
      "Layer (type)                 Output Shape              Param #   \n",
      "=================================================================\n",
      "dense_165 (Dense)            (None, 256)               770816    \n",
      "_________________________________________________________________\n",
      "dropout_136 (Dropout)        (None, 256)               0         \n",
      "_________________________________________________________________\n",
      "dense_166 (Dense)            (None, 200)               51400     \n",
      "_________________________________________________________________\n",
      "dropout_137 (Dropout)        (None, 200)               0         \n",
      "_________________________________________________________________\n",
      "dense_167 (Dense)            (None, 160)               32160     \n",
      "_________________________________________________________________\n",
      "dropout_138 (Dropout)        (None, 160)               0         \n",
      "_________________________________________________________________\n",
      "dense_168 (Dense)            (None, 120)               19320     \n",
      "_________________________________________________________________\n",
      "dropout_139 (Dropout)        (None, 120)               0         \n",
      "_________________________________________________________________\n",
      "dense_169 (Dense)            (None, 80)                9680      \n",
      "_________________________________________________________________\n",
      "dropout_140 (Dropout)        (None, 80)                0         \n",
      "_________________________________________________________________\n",
      "dense_170 (Dense)            (None, 20)                1620      \n",
      "=================================================================\n",
      "Total params: 884,996\n",
      "Trainable params: 884,996\n",
      "Non-trainable params: 0\n",
      "_________________________________________________________________\n",
      "Epoch 1/25\n",
      "40000/40000 [==============================] - 22s 549us/step - loss: 2.6761 - accuracy: 0.2289\n",
      "Epoch 2/25\n",
      "40000/40000 [==============================] - 21s 522us/step - loss: 2.4787 - accuracy: 0.2794\n",
      "Epoch 3/25\n",
      "40000/40000 [==============================] - 21s 536us/step - loss: 2.3296 - accuracy: 0.3166\n",
      "Epoch 4/25\n",
      "40000/40000 [==============================] - 21s 527us/step - loss: 2.1858 - accuracy: 0.3496\n",
      "Epoch 5/25\n",
      "40000/40000 [==============================] - 22s 542us/step - loss: 2.0316 - accuracy: 0.3792\n",
      "Epoch 6/25\n",
      "40000/40000 [==============================] - 22s 540us/step - loss: 1.8906 - accuracy: 0.4125\n",
      "Epoch 7/25\n",
      "40000/40000 [==============================] - 22s 547us/step - loss: 1.7727 - accuracy: 0.4405\n",
      "Epoch 8/25\n",
      "40000/40000 [==============================] - 22s 556us/step - loss: 1.6787 - accuracy: 0.4661\n",
      "Epoch 9/25\n",
      "40000/40000 [==============================] - 22s 555us/step - loss: 1.5746 - accuracy: 0.4930\n",
      "Epoch 10/25\n",
      "40000/40000 [==============================] - 22s 557us/step - loss: 1.4916 - accuracy: 0.5188\n",
      "Epoch 11/25\n",
      "40000/40000 [==============================] - 22s 551us/step - loss: 1.4125 - accuracy: 0.5456\n",
      "Epoch 12/25\n",
      "40000/40000 [==============================] - 22s 562us/step - loss: 1.3532 - accuracy: 0.5631\n",
      "Epoch 13/25\n",
      "40000/40000 [==============================] - 19s 478us/step - loss: 1.2896 - accuracy: 0.5818\n",
      "Epoch 14/25\n",
      "40000/40000 [==============================] - 19s 476us/step - loss: 1.2447 - accuracy: 0.6004\n",
      "Epoch 15/25\n",
      "40000/40000 [==============================] - 19s 477us/step - loss: 1.1895 - accuracy: 0.6144\n",
      "Epoch 16/25\n",
      "40000/40000 [==============================] - 19s 485us/step - loss: 1.1417 - accuracy: 0.6308\n",
      "Epoch 17/25\n",
      "40000/40000 [==============================] - 19s 481us/step - loss: 1.0996 - accuracy: 0.6464\n",
      "Epoch 18/25\n",
      "40000/40000 [==============================] - 19s 486us/step - loss: 1.0655 - accuracy: 0.6550\n",
      "Epoch 19/25\n",
      "40000/40000 [==============================] - 19s 487us/step - loss: 1.0244 - accuracy: 0.6706\n",
      "Epoch 20/25\n",
      "40000/40000 [==============================] - 19s 482us/step - loss: 1.0064 - accuracy: 0.6765\n",
      "Epoch 21/25\n",
      "40000/40000 [==============================] - 19s 483us/step - loss: 0.9569 - accuracy: 0.6906\n",
      "Epoch 22/25\n",
      "40000/40000 [==============================] - 19s 484us/step - loss: 0.9354 - accuracy: 0.7017\n",
      "Epoch 23/25\n",
      "40000/40000 [==============================] - 20s 490us/step - loss: 0.9146 - accuracy: 0.7060\n",
      "Epoch 24/25\n",
      "40000/40000 [==============================] - 19s 484us/step - loss: 0.8888 - accuracy: 0.7157\n",
      "Epoch 25/25\n",
      "40000/40000 [==============================] - 19s 486us/step - loss: 0.8658 - accuracy: 0.7212\n"
     ]
    },
    {
     "data": {
      "text/plain": [
       "<keras.callbacks.callbacks.History at 0x195e4a76788>"
      ]
     },
     "execution_count": 128,
     "metadata": {},
     "output_type": "execute_result"
    }
   ],
   "source": [
    "# Model Training \n",
    "print (\"Create model ... \")\n",
    "def build_model():\n",
    "    model = Sequential()\n",
    "    model.add(Dense(256, input_dim=3010, activation='relu'))\n",
    "    model.add(Dropout(0.3))\n",
    "    model.add(Dense(200, activation='relu'))\n",
    "    model.add(Dropout(0.3))\n",
    "    model.add(Dense(160, activation='relu'))\n",
    "    model.add(Dropout(0.3))\n",
    "    model.add(Dense(120, activation='relu'))\n",
    "    model.add(Dropout(0.3))\n",
    "    model.add(Dense(80, activation='relu'))\n",
    "    model.add(Dropout(0.3))\n",
    "    model.add(Dense(20, activation='softmax'))\n",
    "    model.compile(loss='categorical_crossentropy', optimizer='adam', metrics=['accuracy'])\n",
    "    model.summary()\n",
    "    return model\n",
    "\n",
    "print(\"Compile model ...\")\n",
    "estimator = KerasClassifier(build_fn=build_model, epochs=25, batch_size=64)\n",
    "estimator.fit(X, dummy_y_train)"
   ]
  },
  {
   "cell_type": "code",
   "execution_count": 129,
   "metadata": {},
   "outputs": [
    {
     "name": "stdout",
     "output_type": "stream",
     "text": [
      "Predict on test data ... \n",
      "tfidf_ann train accuracy   86.08749999999999\n",
      "tfidf_ann test accuracy   22.35\n"
     ]
    }
   ],
   "source": [
    "# Predictions \n",
    "print (\"Predict on test data ... \")\n",
    "y_test = estimator.predict(X_test)\n",
    "y_pred = lb.inverse_transform(y_test)\n",
    "\n",
    "y_test_train = estimator.predict(X)\n",
    "y_pred_train = lb.inverse_transform(y_test_train)\n",
    "\n",
    "print(\"tfidf_ann train accuracy   \" + str(100 * np.mean(y_pred_train == train_labels)))\n",
    "print(\"tfidf_ann test accuracy   \" + str(100 * np.mean(y_pred == test_labels)))"
   ]
  },
  {
   "cell_type": "markdown",
   "metadata": {},
   "source": [
    "## TFIDF Followed by ANN"
   ]
  },
  {
   "cell_type": "code",
   "execution_count": 137,
   "metadata": {},
   "outputs": [
    {
     "name": "stdout",
     "output_type": "stream",
     "text": [
      "TF-IDF on text data ... \n"
     ]
    }
   ],
   "source": [
    "# Feature Engineering \n",
    "print (\"TF-IDF on text data ... \")\n",
    "tfidf = TfidfVectorizer(binary=True, max_features=3010)\n",
    "X = tfidf.fit_transform(train_data).astype('float32')\n",
    "X_test = tfidf.transform(test_data).astype('float32')"
   ]
  },
  {
   "cell_type": "code",
   "execution_count": null,
   "metadata": {},
   "outputs": [],
   "source": [
    "print(\"Compile model ...\")\n",
    "estimator = KerasClassifier(build_fn=build_model, epochs=25, batch_size=64)\n",
    "estimator.fit(X, dummy_y_train)"
   ]
  },
  {
   "cell_type": "code",
   "execution_count": 127,
   "metadata": {},
   "outputs": [
    {
     "name": "stdout",
     "output_type": "stream",
     "text": [
      "Predict on test data ... \n",
      "tfidf_ann train accuracy   87.99249999999999\n",
      "tfidf_ann test accuracy   21.23\n"
     ]
    }
   ],
   "source": [
    "# Predictions \n",
    "print (\"Predict on test data ... \")\n",
    "y_test = estimator.predict(X_test)\n",
    "y_pred = lb.inverse_transform(y_test)\n",
    "\n",
    "y_test_train = estimator.predict(X)\n",
    "y_pred_train = lb.inverse_transform(y_test_train)\n",
    "\n",
    "print(\"tfidf_ann train accuracy   \" + str(100 * np.mean(y_pred_train == train_labels)))\n",
    "print(\"tfidf_ann test accuracy   \" + str(100 * np.mean(y_pred == test_labels)))"
   ]
  },
  {
   "cell_type": "markdown",
   "metadata": {},
   "source": [
    "## Word2vec Followed by ANN"
   ]
  },
  {
   "cell_type": "code",
   "execution_count": 140,
   "metadata": {},
   "outputs": [
    {
     "name": "stdout",
     "output_type": "stream",
     "text": [
      "Word2Vec on text data ... \n"
     ]
    }
   ],
   "source": [
    "# Feature Engineering \n",
    "print (\"Word2Vec on text data ... \")\n",
    "tfidf = TfidfVectorizer(binary=True, max_features=3010)\n",
    "X = tfidf.fit_transform(train_data).astype('float32')\n",
    "X_test = tfidf.transform(test_data).astype('float32')\n",
    "\n",
    "word2vec = load_glove_data()\n",
    "X = word2vec_transform(train_data, word2vec, 100)\n",
    "X_test = word2vec_transform(test_data, word2vec, 100)"
   ]
  },
  {
   "cell_type": "code",
   "execution_count": 146,
   "metadata": {},
   "outputs": [
    {
     "data": {
      "text/plain": [
       "(40000, 100)"
      ]
     },
     "execution_count": 146,
     "metadata": {},
     "output_type": "execute_result"
    }
   ],
   "source": [
    "X_train = np.array(X)\n",
    "X_train.shape"
   ]
  },
  {
   "cell_type": "code",
   "execution_count": 148,
   "metadata": {},
   "outputs": [
    {
     "name": "stdout",
     "output_type": "stream",
     "text": [
      "Create model ... \n",
      "Compile model ...\n",
      "Model: \"sequential_36\"\n",
      "_________________________________________________________________\n",
      "Layer (type)                 Output Shape              Param #   \n",
      "=================================================================\n",
      "dense_195 (Dense)            (None, 256)               25856     \n",
      "_________________________________________________________________\n",
      "dropout_161 (Dropout)        (None, 256)               0         \n",
      "_________________________________________________________________\n",
      "dense_196 (Dense)            (None, 200)               51400     \n",
      "_________________________________________________________________\n",
      "dropout_162 (Dropout)        (None, 200)               0         \n",
      "_________________________________________________________________\n",
      "dense_197 (Dense)            (None, 160)               32160     \n",
      "_________________________________________________________________\n",
      "dropout_163 (Dropout)        (None, 160)               0         \n",
      "_________________________________________________________________\n",
      "dense_198 (Dense)            (None, 120)               19320     \n",
      "_________________________________________________________________\n",
      "dropout_164 (Dropout)        (None, 120)               0         \n",
      "_________________________________________________________________\n",
      "dense_199 (Dense)            (None, 80)                9680      \n",
      "_________________________________________________________________\n",
      "dropout_165 (Dropout)        (None, 80)                0         \n",
      "_________________________________________________________________\n",
      "dense_200 (Dense)            (None, 20)                1620      \n",
      "=================================================================\n",
      "Total params: 140,036\n",
      "Trainable params: 140,036\n",
      "Non-trainable params: 0\n",
      "_________________________________________________________________\n",
      "Epoch 1/25\n",
      "40000/40000 [==============================] - 8s 199us/step - loss: 2.7219 - accuracy: 0.2213\n",
      "Epoch 2/25\n",
      "40000/40000 [==============================] - 7s 172us/step - loss: 2.6184 - accuracy: 0.2425\n",
      "Epoch 3/25\n",
      "40000/40000 [==============================] - 7s 171us/step - loss: 2.5640 - accuracy: 0.2572\n",
      "Epoch 4/25\n",
      "40000/40000 [==============================] - 7s 172us/step - loss: 2.5399 - accuracy: 0.2636\n",
      "Epoch 5/25\n",
      "40000/40000 [==============================] - 7s 170us/step - loss: 2.5207 - accuracy: 0.2680\n",
      "Epoch 6/25\n",
      "40000/40000 [==============================] - 7s 170us/step - loss: 2.5034 - accuracy: 0.2725\n",
      "Epoch 7/25\n",
      "40000/40000 [==============================] - 7s 171us/step - loss: 2.4954 - accuracy: 0.2729\n",
      "Epoch 8/25\n",
      "40000/40000 [==============================] - 7s 171us/step - loss: 2.4851 - accuracy: 0.2765\n",
      "Epoch 9/25\n",
      "40000/40000 [==============================] - 7s 172us/step - loss: 2.4757 - accuracy: 0.2798\n",
      "Epoch 10/25\n",
      "40000/40000 [==============================] - 7s 171us/step - loss: 2.4665 - accuracy: 0.2816\n",
      "Epoch 11/25\n",
      "40000/40000 [==============================] - 7s 171us/step - loss: 2.4572 - accuracy: 0.2849\n",
      "Epoch 12/25\n",
      "40000/40000 [==============================] - 7s 172us/step - loss: 2.4500 - accuracy: 0.2859\n",
      "Epoch 13/25\n",
      "40000/40000 [==============================] - 7s 171us/step - loss: 2.4457 - accuracy: 0.2874\n",
      "Epoch 14/25\n",
      "40000/40000 [==============================] - 7s 174us/step - loss: 2.4380 - accuracy: 0.2880\n",
      "Epoch 15/25\n",
      "40000/40000 [==============================] - 7s 171us/step - loss: 2.4309 - accuracy: 0.2893\n",
      "Epoch 16/25\n",
      "40000/40000 [==============================] - 7s 171us/step - loss: 2.4236 - accuracy: 0.2914\n",
      "Epoch 17/25\n",
      "40000/40000 [==============================] - 7s 170us/step - loss: 2.4133 - accuracy: 0.2953\n",
      "Epoch 18/25\n",
      "40000/40000 [==============================] - 7s 170us/step - loss: 2.4137 - accuracy: 0.2955\n",
      "Epoch 19/25\n",
      "40000/40000 [==============================] - 7s 170us/step - loss: 2.4064 - accuracy: 0.2974\n",
      "Epoch 20/25\n",
      "40000/40000 [==============================] - 7s 173us/step - loss: 2.4028 - accuracy: 0.2985\n",
      "Epoch 21/25\n",
      "40000/40000 [==============================] - 7s 171us/step - loss: 2.3972 - accuracy: 0.2993\n",
      "Epoch 22/25\n",
      "40000/40000 [==============================] - 7s 173us/step - loss: 2.3942 - accuracy: 0.3013\n",
      "Epoch 23/25\n",
      "40000/40000 [==============================] - 7s 171us/step - loss: 2.3885 - accuracy: 0.3006\n",
      "Epoch 24/25\n",
      "40000/40000 [==============================] - 7s 171us/step - loss: 2.3817 - accuracy: 0.3025\n",
      "Epoch 25/25\n",
      "40000/40000 [==============================] - 7s 170us/step - loss: 2.3787 - accuracy: 0.3039\n"
     ]
    },
    {
     "data": {
      "text/plain": [
       "<keras.callbacks.callbacks.History at 0x196515e3fc8>"
      ]
     },
     "execution_count": 148,
     "metadata": {},
     "output_type": "execute_result"
    }
   ],
   "source": [
    "# Model Training \n",
    "print (\"Create model ... \")\n",
    "def build_model():\n",
    "    model = Sequential()\n",
    "    model.add(Dense(256, input_dim=100, activation='relu'))\n",
    "    model.add(Dropout(0.3))\n",
    "    model.add(Dense(200, activation='relu'))\n",
    "    model.add(Dropout(0.3))\n",
    "    model.add(Dense(160, activation='relu'))\n",
    "    model.add(Dropout(0.3))\n",
    "    model.add(Dense(120, activation='relu'))\n",
    "    model.add(Dropout(0.3))\n",
    "    model.add(Dense(80, activation='relu'))\n",
    "    model.add(Dropout(0.3))\n",
    "    model.add(Dense(20, activation='softmax'))\n",
    "    model.compile(loss='categorical_crossentropy', optimizer='adam', metrics=['accuracy'])\n",
    "    model.summary()\n",
    "    return model\n",
    "\n",
    "\n",
    "print(\"Compile model ...\")\n",
    "estimator = KerasClassifier(build_fn=build_model, epochs=25, batch_size=64)\n",
    "estimator.fit(X_train, dummy_y_train)"
   ]
  },
  {
   "cell_type": "code",
   "execution_count": 150,
   "metadata": {},
   "outputs": [
    {
     "name": "stdout",
     "output_type": "stream",
     "text": [
      "Predict on test data ... \n",
      "tfidf_ann train accuracy   33.445\n",
      "tfidf_ann test accuracy   27.76\n"
     ]
    }
   ],
   "source": [
    "# Predictions \n",
    "print (\"Predict on test data ... \")\n",
    "y_test = estimator.predict(np.array(X_test))\n",
    "y_pred = lb.inverse_transform(y_test)\n",
    "\n",
    "y_test_train = estimator.predict(X_train)\n",
    "y_pred_train = lb.inverse_transform(y_test_train)\n",
    "\n",
    "print(\"tfidf_ann train accuracy   \" + str(100 * np.mean(y_pred_train == train_labels)))\n",
    "print(\"tfidf_ann test accuracy   \" + str(100 * np.mean(y_pred == test_labels)))"
   ]
  },
  {
   "cell_type": "markdown",
   "metadata": {},
   "source": [
    "# Final Summary\n",
    "\n",
    "1. Read the data\n",
    "2. Preprocessing like removing stopwords, punctuations, converting to lowercase, tokeization etc.\n",
    "3. Tried Bag of Words\n",
    "4. Tried TFIDF Vectorizer\n",
    "5. Tried Glove 100 dimensional Embedding\n",
    "6. Tried LDA\n",
    "7. Built Logistic Regression, KNN and SGD classifiers for steps 3, 4, 5 and 6\n",
    "8. Built Multinomial Naive Bayes for 3 and 4\n",
    "9. Built ANN for 3, 4 and 5\n",
    "10. Evaluated the results for all the above mentioned models"
   ]
  },
  {
   "cell_type": "markdown",
   "metadata": {},
   "source": [
    "# Best Models\n",
    "\n",
    "1. CountVectorizer + ANN\n",
    "2. TFIDF + ANN"
   ]
  },
  {
   "cell_type": "markdown",
   "metadata": {},
   "source": [
    "# Future Scope/What can be done better\n",
    "\n",
    "1. Further understanding of the data\n",
    "2. Domain specific preprocessing\n",
    "3. Could've built CNN and LSTM models\n",
    "4. Try higher dimensional Glove Embedding or any other word2vec algorithms\n",
    "5. Cross Validation can be done\n",
    "6. Using more features and words while training (Couldn't do that due to time and computation constraints)\n",
    "7. Code can be optimized even more"
   ]
  },
  {
   "cell_type": "code",
   "execution_count": null,
   "metadata": {},
   "outputs": [],
   "source": []
  }
 ],
 "metadata": {
  "kernelspec": {
   "display_name": "Python 3",
   "language": "python",
   "name": "python3"
  },
  "language_info": {
   "codemirror_mode": {
    "name": "ipython",
    "version": 3
   },
   "file_extension": ".py",
   "mimetype": "text/x-python",
   "name": "python",
   "nbconvert_exporter": "python",
   "pygments_lexer": "ipython3",
   "version": "3.7.4"
  }
 },
 "nbformat": 4,
 "nbformat_minor": 2
}
